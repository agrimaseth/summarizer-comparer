{
 "cells": [
  {
   "cell_type": "code",
   "execution_count": 1,
   "metadata": {},
   "outputs": [],
   "source": [
    "from nltk.translate.bleu_score import sentence_bleu\n",
    "refs = df[\"URL_Text\"]\n",
    "cands_1=df[\"HF-Bart\"]\n",
    "cands_2=df[\"HF-T5\"]\n",
    "cands_3=df[\"HF-T7\"]\n",
    "score_final=[]\n",
    "\"\"\"\n",
    "change the cand_i according to the model under comparison/consideration. \n",
    "\"\"\"\n",
    "for i in range(len(refs)):\n",
    "    cands_1[i] = cands_1[i].split()\n",
    "    refs[i] = refs[i].split()\n",
    "    print(sentence_bleu(refs, cands_1))\n",
    "    score = sentence_bleu(refs, cands_1, weights=(0.1, 0.2, 0.3, 0.4))\n",
    "    score_final.append(score)\n",
    "    print(score)"
   ]
  },
  {
   "cell_type": "code",
   "execution_count": 2,
   "metadata": {},
   "outputs": [],
   "source": [
    "from nltk.translate.bleu_score import sentence_bleu\n",
    "refs = \"append the orginal text\"\n",
    "cands =\"append the our summary\"\n",
    "score = sentence_bleu(refs, cands, weights=(0.1, 0.2, 0.3, 0.4))\n",
    "print(score)"
   ]
  },
  {
   "cell_type": "code",
   "execution_count": null,
   "metadata": {},
   "outputs": [],
   "source": []
  }
 ],
 "metadata": {
  "interpreter": {
   "hash": "d58d9008aeb425e3f84edad7da198d86176c4b609f51f7cdd6051dec62bea9cb"
  },
  "kernelspec": {
   "display_name": "Python 3.7.10 64-bit ('IITM_Ford': conda)",
   "language": "python",
   "name": "python3"
  },
  "language_info": {
   "codemirror_mode": {
    "name": "ipython",
    "version": 3
   },
   "file_extension": ".py",
   "mimetype": "text/x-python",
   "name": "python",
   "nbconvert_exporter": "python",
   "pygments_lexer": "ipython3",
   "version": "3.7.10"
  },
  "orig_nbformat": 4
 },
 "nbformat": 4,
 "nbformat_minor": 2
}
