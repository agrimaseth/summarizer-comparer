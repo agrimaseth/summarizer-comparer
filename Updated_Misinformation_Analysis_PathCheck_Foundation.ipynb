{
  "nbformat": 4,
  "nbformat_minor": 0,
  "metadata": {
    "colab": {
      "name": "Updated_Misinformation_Analysis_PathCheck Foundation.ipynb",
      "provenance": [],
      "collapsed_sections": []
    },
    "language_info": {
      "name": "python"
    },
    "kernelspec": {
      "name": "python3",
      "display_name": "Python 3"
    },
    "accelerator": "GPU",
    "widgets": {
      "application/vnd.jupyter.widget-state+json": {
        "a505ebcb04ac4a7cbcd75f71be8820a9": {
          "model_module": "@jupyter-widgets/controls",
          "model_name": "HBoxModel",
          "model_module_version": "1.5.0",
          "state": {
            "_view_name": "HBoxView",
            "_dom_classes": [],
            "_model_name": "HBoxModel",
            "_view_module": "@jupyter-widgets/controls",
            "_model_module_version": "1.5.0",
            "_view_count": null,
            "_view_module_version": "1.5.0",
            "box_style": "",
            "layout": "IPY_MODEL_ec54a35b800f43c582dbc927fe086fb7",
            "_model_module": "@jupyter-widgets/controls",
            "children": [
              "IPY_MODEL_a48b5d0c569a4238a7456ffc4d278c2d",
              "IPY_MODEL_cc0299edce684d0483f3a53f3c9712f2"
            ]
          }
        },
        "ec54a35b800f43c582dbc927fe086fb7": {
          "model_module": "@jupyter-widgets/base",
          "model_name": "LayoutModel",
          "model_module_version": "1.2.0",
          "state": {
            "_view_name": "LayoutView",
            "grid_template_rows": null,
            "right": null,
            "justify_content": null,
            "_view_module": "@jupyter-widgets/base",
            "overflow": null,
            "_model_module_version": "1.2.0",
            "_view_count": null,
            "flex_flow": null,
            "width": null,
            "min_width": null,
            "border": null,
            "align_items": null,
            "bottom": null,
            "_model_module": "@jupyter-widgets/base",
            "top": null,
            "grid_column": null,
            "overflow_y": null,
            "overflow_x": null,
            "grid_auto_flow": null,
            "grid_area": null,
            "grid_template_columns": null,
            "flex": null,
            "_model_name": "LayoutModel",
            "justify_items": null,
            "grid_row": null,
            "max_height": null,
            "align_content": null,
            "visibility": null,
            "align_self": null,
            "height": null,
            "min_height": null,
            "padding": null,
            "grid_auto_rows": null,
            "grid_gap": null,
            "max_width": null,
            "order": null,
            "_view_module_version": "1.2.0",
            "grid_template_areas": null,
            "object_position": null,
            "object_fit": null,
            "grid_auto_columns": null,
            "margin": null,
            "display": null,
            "left": null
          }
        },
        "a48b5d0c569a4238a7456ffc4d278c2d": {
          "model_module": "@jupyter-widgets/controls",
          "model_name": "FloatProgressModel",
          "model_module_version": "1.5.0",
          "state": {
            "_view_name": "ProgressView",
            "style": "IPY_MODEL_f80881feae114e318f76a51a3ffda227",
            "_dom_classes": [],
            "description": "Downloading: 100%",
            "_model_name": "FloatProgressModel",
            "bar_style": "success",
            "max": 1200,
            "_view_module": "@jupyter-widgets/controls",
            "_model_module_version": "1.5.0",
            "value": 1200,
            "_view_count": null,
            "_view_module_version": "1.5.0",
            "orientation": "horizontal",
            "min": 0,
            "description_tooltip": null,
            "_model_module": "@jupyter-widgets/controls",
            "layout": "IPY_MODEL_b6720ad69e904f52b0fe3195f18b6acc"
          }
        },
        "cc0299edce684d0483f3a53f3c9712f2": {
          "model_module": "@jupyter-widgets/controls",
          "model_name": "HTMLModel",
          "model_module_version": "1.5.0",
          "state": {
            "_view_name": "HTMLView",
            "style": "IPY_MODEL_54380fef57d946d29cbbcd3e9cb5d59e",
            "_dom_classes": [],
            "description": "",
            "_model_name": "HTMLModel",
            "placeholder": "​",
            "_view_module": "@jupyter-widgets/controls",
            "_model_module_version": "1.5.0",
            "value": " 1.20k/1.20k [00:00&lt;00:00, 10.9kB/s]",
            "_view_count": null,
            "_view_module_version": "1.5.0",
            "description_tooltip": null,
            "_model_module": "@jupyter-widgets/controls",
            "layout": "IPY_MODEL_c7f5df8ebe08452789ff87753a19706a"
          }
        },
        "f80881feae114e318f76a51a3ffda227": {
          "model_module": "@jupyter-widgets/controls",
          "model_name": "ProgressStyleModel",
          "model_module_version": "1.5.0",
          "state": {
            "_view_name": "StyleView",
            "_model_name": "ProgressStyleModel",
            "description_width": "initial",
            "_view_module": "@jupyter-widgets/base",
            "_model_module_version": "1.5.0",
            "_view_count": null,
            "_view_module_version": "1.2.0",
            "bar_color": null,
            "_model_module": "@jupyter-widgets/controls"
          }
        },
        "b6720ad69e904f52b0fe3195f18b6acc": {
          "model_module": "@jupyter-widgets/base",
          "model_name": "LayoutModel",
          "model_module_version": "1.2.0",
          "state": {
            "_view_name": "LayoutView",
            "grid_template_rows": null,
            "right": null,
            "justify_content": null,
            "_view_module": "@jupyter-widgets/base",
            "overflow": null,
            "_model_module_version": "1.2.0",
            "_view_count": null,
            "flex_flow": null,
            "width": null,
            "min_width": null,
            "border": null,
            "align_items": null,
            "bottom": null,
            "_model_module": "@jupyter-widgets/base",
            "top": null,
            "grid_column": null,
            "overflow_y": null,
            "overflow_x": null,
            "grid_auto_flow": null,
            "grid_area": null,
            "grid_template_columns": null,
            "flex": null,
            "_model_name": "LayoutModel",
            "justify_items": null,
            "grid_row": null,
            "max_height": null,
            "align_content": null,
            "visibility": null,
            "align_self": null,
            "height": null,
            "min_height": null,
            "padding": null,
            "grid_auto_rows": null,
            "grid_gap": null,
            "max_width": null,
            "order": null,
            "_view_module_version": "1.2.0",
            "grid_template_areas": null,
            "object_position": null,
            "object_fit": null,
            "grid_auto_columns": null,
            "margin": null,
            "display": null,
            "left": null
          }
        },
        "54380fef57d946d29cbbcd3e9cb5d59e": {
          "model_module": "@jupyter-widgets/controls",
          "model_name": "DescriptionStyleModel",
          "model_module_version": "1.5.0",
          "state": {
            "_view_name": "StyleView",
            "_model_name": "DescriptionStyleModel",
            "description_width": "",
            "_view_module": "@jupyter-widgets/base",
            "_model_module_version": "1.5.0",
            "_view_count": null,
            "_view_module_version": "1.2.0",
            "_model_module": "@jupyter-widgets/controls"
          }
        },
        "c7f5df8ebe08452789ff87753a19706a": {
          "model_module": "@jupyter-widgets/base",
          "model_name": "LayoutModel",
          "model_module_version": "1.2.0",
          "state": {
            "_view_name": "LayoutView",
            "grid_template_rows": null,
            "right": null,
            "justify_content": null,
            "_view_module": "@jupyter-widgets/base",
            "overflow": null,
            "_model_module_version": "1.2.0",
            "_view_count": null,
            "flex_flow": null,
            "width": null,
            "min_width": null,
            "border": null,
            "align_items": null,
            "bottom": null,
            "_model_module": "@jupyter-widgets/base",
            "top": null,
            "grid_column": null,
            "overflow_y": null,
            "overflow_x": null,
            "grid_auto_flow": null,
            "grid_area": null,
            "grid_template_columns": null,
            "flex": null,
            "_model_name": "LayoutModel",
            "justify_items": null,
            "grid_row": null,
            "max_height": null,
            "align_content": null,
            "visibility": null,
            "align_self": null,
            "height": null,
            "min_height": null,
            "padding": null,
            "grid_auto_rows": null,
            "grid_gap": null,
            "max_width": null,
            "order": null,
            "_view_module_version": "1.2.0",
            "grid_template_areas": null,
            "object_position": null,
            "object_fit": null,
            "grid_auto_columns": null,
            "margin": null,
            "display": null,
            "left": null
          }
        },
        "405c375c09c143af8f872247644df0b6": {
          "model_module": "@jupyter-widgets/controls",
          "model_name": "HBoxModel",
          "model_module_version": "1.5.0",
          "state": {
            "_view_name": "HBoxView",
            "_dom_classes": [],
            "_model_name": "HBoxModel",
            "_view_module": "@jupyter-widgets/controls",
            "_model_module_version": "1.5.0",
            "_view_count": null,
            "_view_module_version": "1.5.0",
            "box_style": "",
            "layout": "IPY_MODEL_ddc281de99d645d3ac8b77a464f25089",
            "_model_module": "@jupyter-widgets/controls",
            "children": [
              "IPY_MODEL_2c94aaa900494a82a7398781ddf8c4bf",
              "IPY_MODEL_46fed5859df74416a5d76e82d964efdc"
            ]
          }
        },
        "ddc281de99d645d3ac8b77a464f25089": {
          "model_module": "@jupyter-widgets/base",
          "model_name": "LayoutModel",
          "model_module_version": "1.2.0",
          "state": {
            "_view_name": "LayoutView",
            "grid_template_rows": null,
            "right": null,
            "justify_content": null,
            "_view_module": "@jupyter-widgets/base",
            "overflow": null,
            "_model_module_version": "1.2.0",
            "_view_count": null,
            "flex_flow": null,
            "width": null,
            "min_width": null,
            "border": null,
            "align_items": null,
            "bottom": null,
            "_model_module": "@jupyter-widgets/base",
            "top": null,
            "grid_column": null,
            "overflow_y": null,
            "overflow_x": null,
            "grid_auto_flow": null,
            "grid_area": null,
            "grid_template_columns": null,
            "flex": null,
            "_model_name": "LayoutModel",
            "justify_items": null,
            "grid_row": null,
            "max_height": null,
            "align_content": null,
            "visibility": null,
            "align_self": null,
            "height": null,
            "min_height": null,
            "padding": null,
            "grid_auto_rows": null,
            "grid_gap": null,
            "max_width": null,
            "order": null,
            "_view_module_version": "1.2.0",
            "grid_template_areas": null,
            "object_position": null,
            "object_fit": null,
            "grid_auto_columns": null,
            "margin": null,
            "display": null,
            "left": null
          }
        },
        "2c94aaa900494a82a7398781ddf8c4bf": {
          "model_module": "@jupyter-widgets/controls",
          "model_name": "FloatProgressModel",
          "model_module_version": "1.5.0",
          "state": {
            "_view_name": "ProgressView",
            "style": "IPY_MODEL_b205e86960aa4bc498b6b55592b55057",
            "_dom_classes": [],
            "description": "Downloading: 100%",
            "_model_name": "FloatProgressModel",
            "bar_style": "success",
            "max": 2950825948,
            "_view_module": "@jupyter-widgets/controls",
            "_model_module_version": "1.5.0",
            "value": 2950825948,
            "_view_count": null,
            "_view_module_version": "1.5.0",
            "orientation": "horizontal",
            "min": 0,
            "description_tooltip": null,
            "_model_module": "@jupyter-widgets/controls",
            "layout": "IPY_MODEL_7403c53d248d4f609c669eab7e3fef7e"
          }
        },
        "46fed5859df74416a5d76e82d964efdc": {
          "model_module": "@jupyter-widgets/controls",
          "model_name": "HTMLModel",
          "model_module_version": "1.5.0",
          "state": {
            "_view_name": "HTMLView",
            "style": "IPY_MODEL_a3fc70329bbc4fe7a5f445eee7e616c7",
            "_dom_classes": [],
            "description": "",
            "_model_name": "HTMLModel",
            "placeholder": "​",
            "_view_module": "@jupyter-widgets/controls",
            "_model_module_version": "1.5.0",
            "value": " 2.95G/2.95G [01:35&lt;00:00, 30.9MB/s]",
            "_view_count": null,
            "_view_module_version": "1.5.0",
            "description_tooltip": null,
            "_model_module": "@jupyter-widgets/controls",
            "layout": "IPY_MODEL_495a0d3e70de4c7f838d717e7b5d2fc4"
          }
        },
        "b205e86960aa4bc498b6b55592b55057": {
          "model_module": "@jupyter-widgets/controls",
          "model_name": "ProgressStyleModel",
          "model_module_version": "1.5.0",
          "state": {
            "_view_name": "StyleView",
            "_model_name": "ProgressStyleModel",
            "description_width": "initial",
            "_view_module": "@jupyter-widgets/base",
            "_model_module_version": "1.5.0",
            "_view_count": null,
            "_view_module_version": "1.2.0",
            "bar_color": null,
            "_model_module": "@jupyter-widgets/controls"
          }
        },
        "7403c53d248d4f609c669eab7e3fef7e": {
          "model_module": "@jupyter-widgets/base",
          "model_name": "LayoutModel",
          "model_module_version": "1.2.0",
          "state": {
            "_view_name": "LayoutView",
            "grid_template_rows": null,
            "right": null,
            "justify_content": null,
            "_view_module": "@jupyter-widgets/base",
            "overflow": null,
            "_model_module_version": "1.2.0",
            "_view_count": null,
            "flex_flow": null,
            "width": null,
            "min_width": null,
            "border": null,
            "align_items": null,
            "bottom": null,
            "_model_module": "@jupyter-widgets/base",
            "top": null,
            "grid_column": null,
            "overflow_y": null,
            "overflow_x": null,
            "grid_auto_flow": null,
            "grid_area": null,
            "grid_template_columns": null,
            "flex": null,
            "_model_name": "LayoutModel",
            "justify_items": null,
            "grid_row": null,
            "max_height": null,
            "align_content": null,
            "visibility": null,
            "align_self": null,
            "height": null,
            "min_height": null,
            "padding": null,
            "grid_auto_rows": null,
            "grid_gap": null,
            "max_width": null,
            "order": null,
            "_view_module_version": "1.2.0",
            "grid_template_areas": null,
            "object_position": null,
            "object_fit": null,
            "grid_auto_columns": null,
            "margin": null,
            "display": null,
            "left": null
          }
        },
        "a3fc70329bbc4fe7a5f445eee7e616c7": {
          "model_module": "@jupyter-widgets/controls",
          "model_name": "DescriptionStyleModel",
          "model_module_version": "1.5.0",
          "state": {
            "_view_name": "StyleView",
            "_model_name": "DescriptionStyleModel",
            "description_width": "",
            "_view_module": "@jupyter-widgets/base",
            "_model_module_version": "1.5.0",
            "_view_count": null,
            "_view_module_version": "1.2.0",
            "_model_module": "@jupyter-widgets/controls"
          }
        },
        "495a0d3e70de4c7f838d717e7b5d2fc4": {
          "model_module": "@jupyter-widgets/base",
          "model_name": "LayoutModel",
          "model_module_version": "1.2.0",
          "state": {
            "_view_name": "LayoutView",
            "grid_template_rows": null,
            "right": null,
            "justify_content": null,
            "_view_module": "@jupyter-widgets/base",
            "overflow": null,
            "_model_module_version": "1.2.0",
            "_view_count": null,
            "flex_flow": null,
            "width": null,
            "min_width": null,
            "border": null,
            "align_items": null,
            "bottom": null,
            "_model_module": "@jupyter-widgets/base",
            "top": null,
            "grid_column": null,
            "overflow_y": null,
            "overflow_x": null,
            "grid_auto_flow": null,
            "grid_area": null,
            "grid_template_columns": null,
            "flex": null,
            "_model_name": "LayoutModel",
            "justify_items": null,
            "grid_row": null,
            "max_height": null,
            "align_content": null,
            "visibility": null,
            "align_self": null,
            "height": null,
            "min_height": null,
            "padding": null,
            "grid_auto_rows": null,
            "grid_gap": null,
            "max_width": null,
            "order": null,
            "_view_module_version": "1.2.0",
            "grid_template_areas": null,
            "object_position": null,
            "object_fit": null,
            "grid_auto_columns": null,
            "margin": null,
            "display": null,
            "left": null
          }
        },
        "2b1c1d7e34b14686812cdccd78f9e6c6": {
          "model_module": "@jupyter-widgets/controls",
          "model_name": "HBoxModel",
          "model_module_version": "1.5.0",
          "state": {
            "_view_name": "HBoxView",
            "_dom_classes": [],
            "_model_name": "HBoxModel",
            "_view_module": "@jupyter-widgets/controls",
            "_model_module_version": "1.5.0",
            "_view_count": null,
            "_view_module_version": "1.5.0",
            "box_style": "",
            "layout": "IPY_MODEL_bd825a193c794c86a4e04bcb76734037",
            "_model_module": "@jupyter-widgets/controls",
            "children": [
              "IPY_MODEL_45a37976689043a69549d7dff68c68b0",
              "IPY_MODEL_0fa56bc54349478f81f30012a565965e"
            ]
          }
        },
        "bd825a193c794c86a4e04bcb76734037": {
          "model_module": "@jupyter-widgets/base",
          "model_name": "LayoutModel",
          "model_module_version": "1.2.0",
          "state": {
            "_view_name": "LayoutView",
            "grid_template_rows": null,
            "right": null,
            "justify_content": null,
            "_view_module": "@jupyter-widgets/base",
            "overflow": null,
            "_model_module_version": "1.2.0",
            "_view_count": null,
            "flex_flow": null,
            "width": null,
            "min_width": null,
            "border": null,
            "align_items": null,
            "bottom": null,
            "_model_module": "@jupyter-widgets/base",
            "top": null,
            "grid_column": null,
            "overflow_y": null,
            "overflow_x": null,
            "grid_auto_flow": null,
            "grid_area": null,
            "grid_template_columns": null,
            "flex": null,
            "_model_name": "LayoutModel",
            "justify_items": null,
            "grid_row": null,
            "max_height": null,
            "align_content": null,
            "visibility": null,
            "align_self": null,
            "height": null,
            "min_height": null,
            "padding": null,
            "grid_auto_rows": null,
            "grid_gap": null,
            "max_width": null,
            "order": null,
            "_view_module_version": "1.2.0",
            "grid_template_areas": null,
            "object_position": null,
            "object_fit": null,
            "grid_auto_columns": null,
            "margin": null,
            "display": null,
            "left": null
          }
        },
        "45a37976689043a69549d7dff68c68b0": {
          "model_module": "@jupyter-widgets/controls",
          "model_name": "FloatProgressModel",
          "model_module_version": "1.5.0",
          "state": {
            "_view_name": "ProgressView",
            "style": "IPY_MODEL_392d23e58a93404c842d524b4c3116cf",
            "_dom_classes": [],
            "description": "Downloading: 100%",
            "_model_name": "FloatProgressModel",
            "bar_style": "success",
            "max": 230,
            "_view_module": "@jupyter-widgets/controls",
            "_model_module_version": "1.5.0",
            "value": 230,
            "_view_count": null,
            "_view_module_version": "1.5.0",
            "orientation": "horizontal",
            "min": 0,
            "description_tooltip": null,
            "_model_module": "@jupyter-widgets/controls",
            "layout": "IPY_MODEL_527604c36fef478c9c3ccf4a33facf4b"
          }
        },
        "0fa56bc54349478f81f30012a565965e": {
          "model_module": "@jupyter-widgets/controls",
          "model_name": "HTMLModel",
          "model_module_version": "1.5.0",
          "state": {
            "_view_name": "HTMLView",
            "style": "IPY_MODEL_f108bd4e51f2493f8162318f99874503",
            "_dom_classes": [],
            "description": "",
            "_model_name": "HTMLModel",
            "placeholder": "​",
            "_view_module": "@jupyter-widgets/controls",
            "_model_module_version": "1.5.0",
            "value": " 230/230 [01:46&lt;00:00, 2.17B/s]",
            "_view_count": null,
            "_view_module_version": "1.5.0",
            "description_tooltip": null,
            "_model_module": "@jupyter-widgets/controls",
            "layout": "IPY_MODEL_3aa887dd4183442d84b19b241db6b0e8"
          }
        },
        "392d23e58a93404c842d524b4c3116cf": {
          "model_module": "@jupyter-widgets/controls",
          "model_name": "ProgressStyleModel",
          "model_module_version": "1.5.0",
          "state": {
            "_view_name": "StyleView",
            "_model_name": "ProgressStyleModel",
            "description_width": "initial",
            "_view_module": "@jupyter-widgets/base",
            "_model_module_version": "1.5.0",
            "_view_count": null,
            "_view_module_version": "1.2.0",
            "bar_color": null,
            "_model_module": "@jupyter-widgets/controls"
          }
        },
        "527604c36fef478c9c3ccf4a33facf4b": {
          "model_module": "@jupyter-widgets/base",
          "model_name": "LayoutModel",
          "model_module_version": "1.2.0",
          "state": {
            "_view_name": "LayoutView",
            "grid_template_rows": null,
            "right": null,
            "justify_content": null,
            "_view_module": "@jupyter-widgets/base",
            "overflow": null,
            "_model_module_version": "1.2.0",
            "_view_count": null,
            "flex_flow": null,
            "width": null,
            "min_width": null,
            "border": null,
            "align_items": null,
            "bottom": null,
            "_model_module": "@jupyter-widgets/base",
            "top": null,
            "grid_column": null,
            "overflow_y": null,
            "overflow_x": null,
            "grid_auto_flow": null,
            "grid_area": null,
            "grid_template_columns": null,
            "flex": null,
            "_model_name": "LayoutModel",
            "justify_items": null,
            "grid_row": null,
            "max_height": null,
            "align_content": null,
            "visibility": null,
            "align_self": null,
            "height": null,
            "min_height": null,
            "padding": null,
            "grid_auto_rows": null,
            "grid_gap": null,
            "max_width": null,
            "order": null,
            "_view_module_version": "1.2.0",
            "grid_template_areas": null,
            "object_position": null,
            "object_fit": null,
            "grid_auto_columns": null,
            "margin": null,
            "display": null,
            "left": null
          }
        },
        "f108bd4e51f2493f8162318f99874503": {
          "model_module": "@jupyter-widgets/controls",
          "model_name": "DescriptionStyleModel",
          "model_module_version": "1.5.0",
          "state": {
            "_view_name": "StyleView",
            "_model_name": "DescriptionStyleModel",
            "description_width": "",
            "_view_module": "@jupyter-widgets/base",
            "_model_module_version": "1.5.0",
            "_view_count": null,
            "_view_module_version": "1.2.0",
            "_model_module": "@jupyter-widgets/controls"
          }
        },
        "3aa887dd4183442d84b19b241db6b0e8": {
          "model_module": "@jupyter-widgets/base",
          "model_name": "LayoutModel",
          "model_module_version": "1.2.0",
          "state": {
            "_view_name": "LayoutView",
            "grid_template_rows": null,
            "right": null,
            "justify_content": null,
            "_view_module": "@jupyter-widgets/base",
            "overflow": null,
            "_model_module_version": "1.2.0",
            "_view_count": null,
            "flex_flow": null,
            "width": null,
            "min_width": null,
            "border": null,
            "align_items": null,
            "bottom": null,
            "_model_module": "@jupyter-widgets/base",
            "top": null,
            "grid_column": null,
            "overflow_y": null,
            "overflow_x": null,
            "grid_auto_flow": null,
            "grid_area": null,
            "grid_template_columns": null,
            "flex": null,
            "_model_name": "LayoutModel",
            "justify_items": null,
            "grid_row": null,
            "max_height": null,
            "align_content": null,
            "visibility": null,
            "align_self": null,
            "height": null,
            "min_height": null,
            "padding": null,
            "grid_auto_rows": null,
            "grid_gap": null,
            "max_width": null,
            "order": null,
            "_view_module_version": "1.2.0",
            "grid_template_areas": null,
            "object_position": null,
            "object_fit": null,
            "grid_auto_columns": null,
            "margin": null,
            "display": null,
            "left": null
          }
        },
        "ae71e47be2194dbe86b8fbcee2bd0693": {
          "model_module": "@jupyter-widgets/controls",
          "model_name": "HBoxModel",
          "model_module_version": "1.5.0",
          "state": {
            "_view_name": "HBoxView",
            "_dom_classes": [],
            "_model_name": "HBoxModel",
            "_view_module": "@jupyter-widgets/controls",
            "_model_module_version": "1.5.0",
            "_view_count": null,
            "_view_module_version": "1.5.0",
            "box_style": "",
            "layout": "IPY_MODEL_e3163c8cb44b4c2ca5c8261c89c67900",
            "_model_module": "@jupyter-widgets/controls",
            "children": [
              "IPY_MODEL_5e7e9f2f43fc4e358ebc8d81cd0e5477",
              "IPY_MODEL_77b1eb8adc82455c8fa6312440b92eb8"
            ]
          }
        },
        "e3163c8cb44b4c2ca5c8261c89c67900": {
          "model_module": "@jupyter-widgets/base",
          "model_name": "LayoutModel",
          "model_module_version": "1.2.0",
          "state": {
            "_view_name": "LayoutView",
            "grid_template_rows": null,
            "right": null,
            "justify_content": null,
            "_view_module": "@jupyter-widgets/base",
            "overflow": null,
            "_model_module_version": "1.2.0",
            "_view_count": null,
            "flex_flow": null,
            "width": null,
            "min_width": null,
            "border": null,
            "align_items": null,
            "bottom": null,
            "_model_module": "@jupyter-widgets/base",
            "top": null,
            "grid_column": null,
            "overflow_y": null,
            "overflow_x": null,
            "grid_auto_flow": null,
            "grid_area": null,
            "grid_template_columns": null,
            "flex": null,
            "_model_name": "LayoutModel",
            "justify_items": null,
            "grid_row": null,
            "max_height": null,
            "align_content": null,
            "visibility": null,
            "align_self": null,
            "height": null,
            "min_height": null,
            "padding": null,
            "grid_auto_rows": null,
            "grid_gap": null,
            "max_width": null,
            "order": null,
            "_view_module_version": "1.2.0",
            "grid_template_areas": null,
            "object_position": null,
            "object_fit": null,
            "grid_auto_columns": null,
            "margin": null,
            "display": null,
            "left": null
          }
        },
        "5e7e9f2f43fc4e358ebc8d81cd0e5477": {
          "model_module": "@jupyter-widgets/controls",
          "model_name": "FloatProgressModel",
          "model_module_version": "1.5.0",
          "state": {
            "_view_name": "ProgressView",
            "style": "IPY_MODEL_0c3bbd88ded549eebb4f620f617cbdf5",
            "_dom_classes": [],
            "description": "Downloading: 100%",
            "_model_name": "FloatProgressModel",
            "bar_style": "success",
            "max": 2951710928,
            "_view_module": "@jupyter-widgets/controls",
            "_model_module_version": "1.5.0",
            "value": 2951710928,
            "_view_count": null,
            "_view_module_version": "1.5.0",
            "orientation": "horizontal",
            "min": 0,
            "description_tooltip": null,
            "_model_module": "@jupyter-widgets/controls",
            "layout": "IPY_MODEL_3a67e93df8c64e8ab2c6c8e4ba7773bb"
          }
        },
        "77b1eb8adc82455c8fa6312440b92eb8": {
          "model_module": "@jupyter-widgets/controls",
          "model_name": "HTMLModel",
          "model_module_version": "1.5.0",
          "state": {
            "_view_name": "HTMLView",
            "style": "IPY_MODEL_e3dd3cde98f346eeb2312c4831d19cac",
            "_dom_classes": [],
            "description": "",
            "_model_name": "HTMLModel",
            "placeholder": "​",
            "_view_module": "@jupyter-widgets/controls",
            "_model_module_version": "1.5.0",
            "value": " 2.95G/2.95G [01:44&lt;00:00, 28.1MB/s]",
            "_view_count": null,
            "_view_module_version": "1.5.0",
            "description_tooltip": null,
            "_model_module": "@jupyter-widgets/controls",
            "layout": "IPY_MODEL_be0dc5ef2bb0464aa9c4a62d613664d0"
          }
        },
        "0c3bbd88ded549eebb4f620f617cbdf5": {
          "model_module": "@jupyter-widgets/controls",
          "model_name": "ProgressStyleModel",
          "model_module_version": "1.5.0",
          "state": {
            "_view_name": "StyleView",
            "_model_name": "ProgressStyleModel",
            "description_width": "initial",
            "_view_module": "@jupyter-widgets/base",
            "_model_module_version": "1.5.0",
            "_view_count": null,
            "_view_module_version": "1.2.0",
            "bar_color": null,
            "_model_module": "@jupyter-widgets/controls"
          }
        },
        "3a67e93df8c64e8ab2c6c8e4ba7773bb": {
          "model_module": "@jupyter-widgets/base",
          "model_name": "LayoutModel",
          "model_module_version": "1.2.0",
          "state": {
            "_view_name": "LayoutView",
            "grid_template_rows": null,
            "right": null,
            "justify_content": null,
            "_view_module": "@jupyter-widgets/base",
            "overflow": null,
            "_model_module_version": "1.2.0",
            "_view_count": null,
            "flex_flow": null,
            "width": null,
            "min_width": null,
            "border": null,
            "align_items": null,
            "bottom": null,
            "_model_module": "@jupyter-widgets/base",
            "top": null,
            "grid_column": null,
            "overflow_y": null,
            "overflow_x": null,
            "grid_auto_flow": null,
            "grid_area": null,
            "grid_template_columns": null,
            "flex": null,
            "_model_name": "LayoutModel",
            "justify_items": null,
            "grid_row": null,
            "max_height": null,
            "align_content": null,
            "visibility": null,
            "align_self": null,
            "height": null,
            "min_height": null,
            "padding": null,
            "grid_auto_rows": null,
            "grid_gap": null,
            "max_width": null,
            "order": null,
            "_view_module_version": "1.2.0",
            "grid_template_areas": null,
            "object_position": null,
            "object_fit": null,
            "grid_auto_columns": null,
            "margin": null,
            "display": null,
            "left": null
          }
        },
        "e3dd3cde98f346eeb2312c4831d19cac": {
          "model_module": "@jupyter-widgets/controls",
          "model_name": "DescriptionStyleModel",
          "model_module_version": "1.5.0",
          "state": {
            "_view_name": "StyleView",
            "_model_name": "DescriptionStyleModel",
            "description_width": "",
            "_view_module": "@jupyter-widgets/base",
            "_model_module_version": "1.5.0",
            "_view_count": null,
            "_view_module_version": "1.2.0",
            "_model_module": "@jupyter-widgets/controls"
          }
        },
        "be0dc5ef2bb0464aa9c4a62d613664d0": {
          "model_module": "@jupyter-widgets/base",
          "model_name": "LayoutModel",
          "model_module_version": "1.2.0",
          "state": {
            "_view_name": "LayoutView",
            "grid_template_rows": null,
            "right": null,
            "justify_content": null,
            "_view_module": "@jupyter-widgets/base",
            "overflow": null,
            "_model_module_version": "1.2.0",
            "_view_count": null,
            "flex_flow": null,
            "width": null,
            "min_width": null,
            "border": null,
            "align_items": null,
            "bottom": null,
            "_model_module": "@jupyter-widgets/base",
            "top": null,
            "grid_column": null,
            "overflow_y": null,
            "overflow_x": null,
            "grid_auto_flow": null,
            "grid_area": null,
            "grid_template_columns": null,
            "flex": null,
            "_model_name": "LayoutModel",
            "justify_items": null,
            "grid_row": null,
            "max_height": null,
            "align_content": null,
            "visibility": null,
            "align_self": null,
            "height": null,
            "min_height": null,
            "padding": null,
            "grid_auto_rows": null,
            "grid_gap": null,
            "max_width": null,
            "order": null,
            "_view_module_version": "1.2.0",
            "grid_template_areas": null,
            "object_position": null,
            "object_fit": null,
            "grid_auto_columns": null,
            "margin": null,
            "display": null,
            "left": null
          }
        },
        "e00e7eb8bfba4699a87a41bfaaef833d": {
          "model_module": "@jupyter-widgets/controls",
          "model_name": "HBoxModel",
          "model_module_version": "1.5.0",
          "state": {
            "_view_name": "HBoxView",
            "_dom_classes": [],
            "_model_name": "HBoxModel",
            "_view_module": "@jupyter-widgets/controls",
            "_model_module_version": "1.5.0",
            "_view_count": null,
            "_view_module_version": "1.5.0",
            "box_style": "",
            "layout": "IPY_MODEL_7c77c41d910e4b6e81b335df496b7e3b",
            "_model_module": "@jupyter-widgets/controls",
            "children": [
              "IPY_MODEL_96af1671c86240e9972aa8e26b9100ba",
              "IPY_MODEL_6de200009b83418981fc6113733a1bc2"
            ]
          }
        },
        "7c77c41d910e4b6e81b335df496b7e3b": {
          "model_module": "@jupyter-widgets/base",
          "model_name": "LayoutModel",
          "model_module_version": "1.2.0",
          "state": {
            "_view_name": "LayoutView",
            "grid_template_rows": null,
            "right": null,
            "justify_content": null,
            "_view_module": "@jupyter-widgets/base",
            "overflow": null,
            "_model_module_version": "1.2.0",
            "_view_count": null,
            "flex_flow": null,
            "width": null,
            "min_width": null,
            "border": null,
            "align_items": null,
            "bottom": null,
            "_model_module": "@jupyter-widgets/base",
            "top": null,
            "grid_column": null,
            "overflow_y": null,
            "overflow_x": null,
            "grid_auto_flow": null,
            "grid_area": null,
            "grid_template_columns": null,
            "flex": null,
            "_model_name": "LayoutModel",
            "justify_items": null,
            "grid_row": null,
            "max_height": null,
            "align_content": null,
            "visibility": null,
            "align_self": null,
            "height": null,
            "min_height": null,
            "padding": null,
            "grid_auto_rows": null,
            "grid_gap": null,
            "max_width": null,
            "order": null,
            "_view_module_version": "1.2.0",
            "grid_template_areas": null,
            "object_position": null,
            "object_fit": null,
            "grid_auto_columns": null,
            "margin": null,
            "display": null,
            "left": null
          }
        },
        "96af1671c86240e9972aa8e26b9100ba": {
          "model_module": "@jupyter-widgets/controls",
          "model_name": "FloatProgressModel",
          "model_module_version": "1.5.0",
          "state": {
            "_view_name": "ProgressView",
            "style": "IPY_MODEL_a90287e08323408cb93c202ef6f90dd3",
            "_dom_classes": [],
            "description": "Downloading: 100%",
            "_model_name": "FloatProgressModel",
            "bar_style": "success",
            "max": 1585,
            "_view_module": "@jupyter-widgets/controls",
            "_model_module_version": "1.5.0",
            "value": 1585,
            "_view_count": null,
            "_view_module_version": "1.5.0",
            "orientation": "horizontal",
            "min": 0,
            "description_tooltip": null,
            "_model_module": "@jupyter-widgets/controls",
            "layout": "IPY_MODEL_9b03935e2d3b485f98d39c57c6b21785"
          }
        },
        "6de200009b83418981fc6113733a1bc2": {
          "model_module": "@jupyter-widgets/controls",
          "model_name": "HTMLModel",
          "model_module_version": "1.5.0",
          "state": {
            "_view_name": "HTMLView",
            "style": "IPY_MODEL_08af9093f52749c0a1b45e643672e560",
            "_dom_classes": [],
            "description": "",
            "_model_name": "HTMLModel",
            "placeholder": "​",
            "_view_module": "@jupyter-widgets/controls",
            "_model_module_version": "1.5.0",
            "value": " 1.58k/1.58k [00:46&lt;00:00, 34.4B/s]",
            "_view_count": null,
            "_view_module_version": "1.5.0",
            "description_tooltip": null,
            "_model_module": "@jupyter-widgets/controls",
            "layout": "IPY_MODEL_50175c905a474d56bbd35ec7086b8783"
          }
        },
        "a90287e08323408cb93c202ef6f90dd3": {
          "model_module": "@jupyter-widgets/controls",
          "model_name": "ProgressStyleModel",
          "model_module_version": "1.5.0",
          "state": {
            "_view_name": "StyleView",
            "_model_name": "ProgressStyleModel",
            "description_width": "initial",
            "_view_module": "@jupyter-widgets/base",
            "_model_module_version": "1.5.0",
            "_view_count": null,
            "_view_module_version": "1.2.0",
            "bar_color": null,
            "_model_module": "@jupyter-widgets/controls"
          }
        },
        "9b03935e2d3b485f98d39c57c6b21785": {
          "model_module": "@jupyter-widgets/base",
          "model_name": "LayoutModel",
          "model_module_version": "1.2.0",
          "state": {
            "_view_name": "LayoutView",
            "grid_template_rows": null,
            "right": null,
            "justify_content": null,
            "_view_module": "@jupyter-widgets/base",
            "overflow": null,
            "_model_module_version": "1.2.0",
            "_view_count": null,
            "flex_flow": null,
            "width": null,
            "min_width": null,
            "border": null,
            "align_items": null,
            "bottom": null,
            "_model_module": "@jupyter-widgets/base",
            "top": null,
            "grid_column": null,
            "overflow_y": null,
            "overflow_x": null,
            "grid_auto_flow": null,
            "grid_area": null,
            "grid_template_columns": null,
            "flex": null,
            "_model_name": "LayoutModel",
            "justify_items": null,
            "grid_row": null,
            "max_height": null,
            "align_content": null,
            "visibility": null,
            "align_self": null,
            "height": null,
            "min_height": null,
            "padding": null,
            "grid_auto_rows": null,
            "grid_gap": null,
            "max_width": null,
            "order": null,
            "_view_module_version": "1.2.0",
            "grid_template_areas": null,
            "object_position": null,
            "object_fit": null,
            "grid_auto_columns": null,
            "margin": null,
            "display": null,
            "left": null
          }
        },
        "08af9093f52749c0a1b45e643672e560": {
          "model_module": "@jupyter-widgets/controls",
          "model_name": "DescriptionStyleModel",
          "model_module_version": "1.5.0",
          "state": {
            "_view_name": "StyleView",
            "_model_name": "DescriptionStyleModel",
            "description_width": "",
            "_view_module": "@jupyter-widgets/base",
            "_model_module_version": "1.5.0",
            "_view_count": null,
            "_view_module_version": "1.2.0",
            "_model_module": "@jupyter-widgets/controls"
          }
        },
        "50175c905a474d56bbd35ec7086b8783": {
          "model_module": "@jupyter-widgets/base",
          "model_name": "LayoutModel",
          "model_module_version": "1.2.0",
          "state": {
            "_view_name": "LayoutView",
            "grid_template_rows": null,
            "right": null,
            "justify_content": null,
            "_view_module": "@jupyter-widgets/base",
            "overflow": null,
            "_model_module_version": "1.2.0",
            "_view_count": null,
            "flex_flow": null,
            "width": null,
            "min_width": null,
            "border": null,
            "align_items": null,
            "bottom": null,
            "_model_module": "@jupyter-widgets/base",
            "top": null,
            "grid_column": null,
            "overflow_y": null,
            "overflow_x": null,
            "grid_auto_flow": null,
            "grid_area": null,
            "grid_template_columns": null,
            "flex": null,
            "_model_name": "LayoutModel",
            "justify_items": null,
            "grid_row": null,
            "max_height": null,
            "align_content": null,
            "visibility": null,
            "align_self": null,
            "height": null,
            "min_height": null,
            "padding": null,
            "grid_auto_rows": null,
            "grid_gap": null,
            "max_width": null,
            "order": null,
            "_view_module_version": "1.2.0",
            "grid_template_areas": null,
            "object_position": null,
            "object_fit": null,
            "grid_auto_columns": null,
            "margin": null,
            "display": null,
            "left": null
          }
        },
        "54dd0895368c49eb827201668aaa29c5": {
          "model_module": "@jupyter-widgets/controls",
          "model_name": "HBoxModel",
          "model_module_version": "1.5.0",
          "state": {
            "_view_name": "HBoxView",
            "_dom_classes": [],
            "_model_name": "HBoxModel",
            "_view_module": "@jupyter-widgets/controls",
            "_model_module_version": "1.5.0",
            "_view_count": null,
            "_view_module_version": "1.5.0",
            "box_style": "",
            "layout": "IPY_MODEL_076685c6f3e7403888965bf53ae99eaa",
            "_model_module": "@jupyter-widgets/controls",
            "children": [
              "IPY_MODEL_cbe0d5834bb24d04a0f7f98b0cde3b56",
              "IPY_MODEL_80af40b0134a428b8dae29764570ed4f"
            ]
          }
        },
        "076685c6f3e7403888965bf53ae99eaa": {
          "model_module": "@jupyter-widgets/base",
          "model_name": "LayoutModel",
          "model_module_version": "1.2.0",
          "state": {
            "_view_name": "LayoutView",
            "grid_template_rows": null,
            "right": null,
            "justify_content": null,
            "_view_module": "@jupyter-widgets/base",
            "overflow": null,
            "_model_module_version": "1.2.0",
            "_view_count": null,
            "flex_flow": null,
            "width": null,
            "min_width": null,
            "border": null,
            "align_items": null,
            "bottom": null,
            "_model_module": "@jupyter-widgets/base",
            "top": null,
            "grid_column": null,
            "overflow_y": null,
            "overflow_x": null,
            "grid_auto_flow": null,
            "grid_area": null,
            "grid_template_columns": null,
            "flex": null,
            "_model_name": "LayoutModel",
            "justify_items": null,
            "grid_row": null,
            "max_height": null,
            "align_content": null,
            "visibility": null,
            "align_self": null,
            "height": null,
            "min_height": null,
            "padding": null,
            "grid_auto_rows": null,
            "grid_gap": null,
            "max_width": null,
            "order": null,
            "_view_module_version": "1.2.0",
            "grid_template_areas": null,
            "object_position": null,
            "object_fit": null,
            "grid_auto_columns": null,
            "margin": null,
            "display": null,
            "left": null
          }
        },
        "cbe0d5834bb24d04a0f7f98b0cde3b56": {
          "model_module": "@jupyter-widgets/controls",
          "model_name": "FloatProgressModel",
          "model_module_version": "1.5.0",
          "state": {
            "_view_name": "ProgressView",
            "style": "IPY_MODEL_5a06d09feb524384ad32dcb501217abb",
            "_dom_classes": [],
            "description": "Downloading: 100%",
            "_model_name": "FloatProgressModel",
            "bar_style": "success",
            "max": 1625270765,
            "_view_module": "@jupyter-widgets/controls",
            "_model_module_version": "1.5.0",
            "value": 1625270765,
            "_view_count": null,
            "_view_module_version": "1.5.0",
            "orientation": "horizontal",
            "min": 0,
            "description_tooltip": null,
            "_model_module": "@jupyter-widgets/controls",
            "layout": "IPY_MODEL_7cca43f43549469b851eedc323f3afff"
          }
        },
        "80af40b0134a428b8dae29764570ed4f": {
          "model_module": "@jupyter-widgets/controls",
          "model_name": "HTMLModel",
          "model_module_version": "1.5.0",
          "state": {
            "_view_name": "HTMLView",
            "style": "IPY_MODEL_f6fb0ca8655a469ebbb5a67dec0f64ee",
            "_dom_classes": [],
            "description": "",
            "_model_name": "HTMLModel",
            "placeholder": "​",
            "_view_module": "@jupyter-widgets/controls",
            "_model_module_version": "1.5.0",
            "value": " 1.63G/1.63G [00:44&lt;00:00, 36.9MB/s]",
            "_view_count": null,
            "_view_module_version": "1.5.0",
            "description_tooltip": null,
            "_model_module": "@jupyter-widgets/controls",
            "layout": "IPY_MODEL_a512aeeaf60444eb917212b8ed5453ae"
          }
        },
        "5a06d09feb524384ad32dcb501217abb": {
          "model_module": "@jupyter-widgets/controls",
          "model_name": "ProgressStyleModel",
          "model_module_version": "1.5.0",
          "state": {
            "_view_name": "StyleView",
            "_model_name": "ProgressStyleModel",
            "description_width": "initial",
            "_view_module": "@jupyter-widgets/base",
            "_model_module_version": "1.5.0",
            "_view_count": null,
            "_view_module_version": "1.2.0",
            "bar_color": null,
            "_model_module": "@jupyter-widgets/controls"
          }
        },
        "7cca43f43549469b851eedc323f3afff": {
          "model_module": "@jupyter-widgets/base",
          "model_name": "LayoutModel",
          "model_module_version": "1.2.0",
          "state": {
            "_view_name": "LayoutView",
            "grid_template_rows": null,
            "right": null,
            "justify_content": null,
            "_view_module": "@jupyter-widgets/base",
            "overflow": null,
            "_model_module_version": "1.2.0",
            "_view_count": null,
            "flex_flow": null,
            "width": null,
            "min_width": null,
            "border": null,
            "align_items": null,
            "bottom": null,
            "_model_module": "@jupyter-widgets/base",
            "top": null,
            "grid_column": null,
            "overflow_y": null,
            "overflow_x": null,
            "grid_auto_flow": null,
            "grid_area": null,
            "grid_template_columns": null,
            "flex": null,
            "_model_name": "LayoutModel",
            "justify_items": null,
            "grid_row": null,
            "max_height": null,
            "align_content": null,
            "visibility": null,
            "align_self": null,
            "height": null,
            "min_height": null,
            "padding": null,
            "grid_auto_rows": null,
            "grid_gap": null,
            "max_width": null,
            "order": null,
            "_view_module_version": "1.2.0",
            "grid_template_areas": null,
            "object_position": null,
            "object_fit": null,
            "grid_auto_columns": null,
            "margin": null,
            "display": null,
            "left": null
          }
        },
        "f6fb0ca8655a469ebbb5a67dec0f64ee": {
          "model_module": "@jupyter-widgets/controls",
          "model_name": "DescriptionStyleModel",
          "model_module_version": "1.5.0",
          "state": {
            "_view_name": "StyleView",
            "_model_name": "DescriptionStyleModel",
            "description_width": "",
            "_view_module": "@jupyter-widgets/base",
            "_model_module_version": "1.5.0",
            "_view_count": null,
            "_view_module_version": "1.2.0",
            "_model_module": "@jupyter-widgets/controls"
          }
        },
        "a512aeeaf60444eb917212b8ed5453ae": {
          "model_module": "@jupyter-widgets/base",
          "model_name": "LayoutModel",
          "model_module_version": "1.2.0",
          "state": {
            "_view_name": "LayoutView",
            "grid_template_rows": null,
            "right": null,
            "justify_content": null,
            "_view_module": "@jupyter-widgets/base",
            "overflow": null,
            "_model_module_version": "1.2.0",
            "_view_count": null,
            "flex_flow": null,
            "width": null,
            "min_width": null,
            "border": null,
            "align_items": null,
            "bottom": null,
            "_model_module": "@jupyter-widgets/base",
            "top": null,
            "grid_column": null,
            "overflow_y": null,
            "overflow_x": null,
            "grid_auto_flow": null,
            "grid_area": null,
            "grid_template_columns": null,
            "flex": null,
            "_model_name": "LayoutModel",
            "justify_items": null,
            "grid_row": null,
            "max_height": null,
            "align_content": null,
            "visibility": null,
            "align_self": null,
            "height": null,
            "min_height": null,
            "padding": null,
            "grid_auto_rows": null,
            "grid_gap": null,
            "max_width": null,
            "order": null,
            "_view_module_version": "1.2.0",
            "grid_template_areas": null,
            "object_position": null,
            "object_fit": null,
            "grid_auto_columns": null,
            "margin": null,
            "display": null,
            "left": null
          }
        },
        "6b4cdf9d1f4447d78162911893725439": {
          "model_module": "@jupyter-widgets/controls",
          "model_name": "HBoxModel",
          "model_module_version": "1.5.0",
          "state": {
            "_view_name": "HBoxView",
            "_dom_classes": [],
            "_model_name": "HBoxModel",
            "_view_module": "@jupyter-widgets/controls",
            "_model_module_version": "1.5.0",
            "_view_count": null,
            "_view_module_version": "1.5.0",
            "box_style": "",
            "layout": "IPY_MODEL_5010d5a18a47423aab74ad9fce3f915e",
            "_model_module": "@jupyter-widgets/controls",
            "children": [
              "IPY_MODEL_4149ec659ba4431095201b82b2cad9da",
              "IPY_MODEL_87ce4f5d43c54cd685b67b2c06c3c684"
            ]
          }
        },
        "5010d5a18a47423aab74ad9fce3f915e": {
          "model_module": "@jupyter-widgets/base",
          "model_name": "LayoutModel",
          "model_module_version": "1.2.0",
          "state": {
            "_view_name": "LayoutView",
            "grid_template_rows": null,
            "right": null,
            "justify_content": null,
            "_view_module": "@jupyter-widgets/base",
            "overflow": null,
            "_model_module_version": "1.2.0",
            "_view_count": null,
            "flex_flow": null,
            "width": null,
            "min_width": null,
            "border": null,
            "align_items": null,
            "bottom": null,
            "_model_module": "@jupyter-widgets/base",
            "top": null,
            "grid_column": null,
            "overflow_y": null,
            "overflow_x": null,
            "grid_auto_flow": null,
            "grid_area": null,
            "grid_template_columns": null,
            "flex": null,
            "_model_name": "LayoutModel",
            "justify_items": null,
            "grid_row": null,
            "max_height": null,
            "align_content": null,
            "visibility": null,
            "align_self": null,
            "height": null,
            "min_height": null,
            "padding": null,
            "grid_auto_rows": null,
            "grid_gap": null,
            "max_width": null,
            "order": null,
            "_view_module_version": "1.2.0",
            "grid_template_areas": null,
            "object_position": null,
            "object_fit": null,
            "grid_auto_columns": null,
            "margin": null,
            "display": null,
            "left": null
          }
        },
        "4149ec659ba4431095201b82b2cad9da": {
          "model_module": "@jupyter-widgets/controls",
          "model_name": "FloatProgressModel",
          "model_module_version": "1.5.0",
          "state": {
            "_view_name": "ProgressView",
            "style": "IPY_MODEL_f6b8be9c2b084d6097c20d86522cc406",
            "_dom_classes": [],
            "description": "Downloading: 100%",
            "_model_name": "FloatProgressModel",
            "bar_style": "success",
            "max": 898823,
            "_view_module": "@jupyter-widgets/controls",
            "_model_module_version": "1.5.0",
            "value": 898823,
            "_view_count": null,
            "_view_module_version": "1.5.0",
            "orientation": "horizontal",
            "min": 0,
            "description_tooltip": null,
            "_model_module": "@jupyter-widgets/controls",
            "layout": "IPY_MODEL_f3edf806bd3a45868abad1bc787de257"
          }
        },
        "87ce4f5d43c54cd685b67b2c06c3c684": {
          "model_module": "@jupyter-widgets/controls",
          "model_name": "HTMLModel",
          "model_module_version": "1.5.0",
          "state": {
            "_view_name": "HTMLView",
            "style": "IPY_MODEL_61623a23e2144693b7350ce5f355b8f4",
            "_dom_classes": [],
            "description": "",
            "_model_name": "HTMLModel",
            "placeholder": "​",
            "_view_module": "@jupyter-widgets/controls",
            "_model_module_version": "1.5.0",
            "value": " 899k/899k [00:00&lt;00:00, 2.50MB/s]",
            "_view_count": null,
            "_view_module_version": "1.5.0",
            "description_tooltip": null,
            "_model_module": "@jupyter-widgets/controls",
            "layout": "IPY_MODEL_41da4d2a886a4a2eafec8689c5ae0976"
          }
        },
        "f6b8be9c2b084d6097c20d86522cc406": {
          "model_module": "@jupyter-widgets/controls",
          "model_name": "ProgressStyleModel",
          "model_module_version": "1.5.0",
          "state": {
            "_view_name": "StyleView",
            "_model_name": "ProgressStyleModel",
            "description_width": "initial",
            "_view_module": "@jupyter-widgets/base",
            "_model_module_version": "1.5.0",
            "_view_count": null,
            "_view_module_version": "1.2.0",
            "bar_color": null,
            "_model_module": "@jupyter-widgets/controls"
          }
        },
        "f3edf806bd3a45868abad1bc787de257": {
          "model_module": "@jupyter-widgets/base",
          "model_name": "LayoutModel",
          "model_module_version": "1.2.0",
          "state": {
            "_view_name": "LayoutView",
            "grid_template_rows": null,
            "right": null,
            "justify_content": null,
            "_view_module": "@jupyter-widgets/base",
            "overflow": null,
            "_model_module_version": "1.2.0",
            "_view_count": null,
            "flex_flow": null,
            "width": null,
            "min_width": null,
            "border": null,
            "align_items": null,
            "bottom": null,
            "_model_module": "@jupyter-widgets/base",
            "top": null,
            "grid_column": null,
            "overflow_y": null,
            "overflow_x": null,
            "grid_auto_flow": null,
            "grid_area": null,
            "grid_template_columns": null,
            "flex": null,
            "_model_name": "LayoutModel",
            "justify_items": null,
            "grid_row": null,
            "max_height": null,
            "align_content": null,
            "visibility": null,
            "align_self": null,
            "height": null,
            "min_height": null,
            "padding": null,
            "grid_auto_rows": null,
            "grid_gap": null,
            "max_width": null,
            "order": null,
            "_view_module_version": "1.2.0",
            "grid_template_areas": null,
            "object_position": null,
            "object_fit": null,
            "grid_auto_columns": null,
            "margin": null,
            "display": null,
            "left": null
          }
        },
        "61623a23e2144693b7350ce5f355b8f4": {
          "model_module": "@jupyter-widgets/controls",
          "model_name": "DescriptionStyleModel",
          "model_module_version": "1.5.0",
          "state": {
            "_view_name": "StyleView",
            "_model_name": "DescriptionStyleModel",
            "description_width": "",
            "_view_module": "@jupyter-widgets/base",
            "_model_module_version": "1.5.0",
            "_view_count": null,
            "_view_module_version": "1.2.0",
            "_model_module": "@jupyter-widgets/controls"
          }
        },
        "41da4d2a886a4a2eafec8689c5ae0976": {
          "model_module": "@jupyter-widgets/base",
          "model_name": "LayoutModel",
          "model_module_version": "1.2.0",
          "state": {
            "_view_name": "LayoutView",
            "grid_template_rows": null,
            "right": null,
            "justify_content": null,
            "_view_module": "@jupyter-widgets/base",
            "overflow": null,
            "_model_module_version": "1.2.0",
            "_view_count": null,
            "flex_flow": null,
            "width": null,
            "min_width": null,
            "border": null,
            "align_items": null,
            "bottom": null,
            "_model_module": "@jupyter-widgets/base",
            "top": null,
            "grid_column": null,
            "overflow_y": null,
            "overflow_x": null,
            "grid_auto_flow": null,
            "grid_area": null,
            "grid_template_columns": null,
            "flex": null,
            "_model_name": "LayoutModel",
            "justify_items": null,
            "grid_row": null,
            "max_height": null,
            "align_content": null,
            "visibility": null,
            "align_self": null,
            "height": null,
            "min_height": null,
            "padding": null,
            "grid_auto_rows": null,
            "grid_gap": null,
            "max_width": null,
            "order": null,
            "_view_module_version": "1.2.0",
            "grid_template_areas": null,
            "object_position": null,
            "object_fit": null,
            "grid_auto_columns": null,
            "margin": null,
            "display": null,
            "left": null
          }
        },
        "72dc1ef2326a485597d95411c3e9c156": {
          "model_module": "@jupyter-widgets/controls",
          "model_name": "HBoxModel",
          "model_module_version": "1.5.0",
          "state": {
            "_view_name": "HBoxView",
            "_dom_classes": [],
            "_model_name": "HBoxModel",
            "_view_module": "@jupyter-widgets/controls",
            "_model_module_version": "1.5.0",
            "_view_count": null,
            "_view_module_version": "1.5.0",
            "box_style": "",
            "layout": "IPY_MODEL_f1ac5cd244cf407ea40f36628d6f2f66",
            "_model_module": "@jupyter-widgets/controls",
            "children": [
              "IPY_MODEL_a3944816c3d741e6bc5ab0e91265c566",
              "IPY_MODEL_3eb33121af7f443c9b52ba50d1b1d972"
            ]
          }
        },
        "f1ac5cd244cf407ea40f36628d6f2f66": {
          "model_module": "@jupyter-widgets/base",
          "model_name": "LayoutModel",
          "model_module_version": "1.2.0",
          "state": {
            "_view_name": "LayoutView",
            "grid_template_rows": null,
            "right": null,
            "justify_content": null,
            "_view_module": "@jupyter-widgets/base",
            "overflow": null,
            "_model_module_version": "1.2.0",
            "_view_count": null,
            "flex_flow": null,
            "width": null,
            "min_width": null,
            "border": null,
            "align_items": null,
            "bottom": null,
            "_model_module": "@jupyter-widgets/base",
            "top": null,
            "grid_column": null,
            "overflow_y": null,
            "overflow_x": null,
            "grid_auto_flow": null,
            "grid_area": null,
            "grid_template_columns": null,
            "flex": null,
            "_model_name": "LayoutModel",
            "justify_items": null,
            "grid_row": null,
            "max_height": null,
            "align_content": null,
            "visibility": null,
            "align_self": null,
            "height": null,
            "min_height": null,
            "padding": null,
            "grid_auto_rows": null,
            "grid_gap": null,
            "max_width": null,
            "order": null,
            "_view_module_version": "1.2.0",
            "grid_template_areas": null,
            "object_position": null,
            "object_fit": null,
            "grid_auto_columns": null,
            "margin": null,
            "display": null,
            "left": null
          }
        },
        "a3944816c3d741e6bc5ab0e91265c566": {
          "model_module": "@jupyter-widgets/controls",
          "model_name": "FloatProgressModel",
          "model_module_version": "1.5.0",
          "state": {
            "_view_name": "ProgressView",
            "style": "IPY_MODEL_8334337bf24144f3b3916c83ef287ad2",
            "_dom_classes": [],
            "description": "Downloading: 100%",
            "_model_name": "FloatProgressModel",
            "bar_style": "success",
            "max": 456318,
            "_view_module": "@jupyter-widgets/controls",
            "_model_module_version": "1.5.0",
            "value": 456318,
            "_view_count": null,
            "_view_module_version": "1.5.0",
            "orientation": "horizontal",
            "min": 0,
            "description_tooltip": null,
            "_model_module": "@jupyter-widgets/controls",
            "layout": "IPY_MODEL_c8f78cd183554e9faea51d2d17250e31"
          }
        },
        "3eb33121af7f443c9b52ba50d1b1d972": {
          "model_module": "@jupyter-widgets/controls",
          "model_name": "HTMLModel",
          "model_module_version": "1.5.0",
          "state": {
            "_view_name": "HTMLView",
            "style": "IPY_MODEL_c0f2d71bc05e4b8c92a4bb5dd4d5d018",
            "_dom_classes": [],
            "description": "",
            "_model_name": "HTMLModel",
            "placeholder": "​",
            "_view_module": "@jupyter-widgets/controls",
            "_model_module_version": "1.5.0",
            "value": " 456k/456k [00:00&lt;00:00, 2.02MB/s]",
            "_view_count": null,
            "_view_module_version": "1.5.0",
            "description_tooltip": null,
            "_model_module": "@jupyter-widgets/controls",
            "layout": "IPY_MODEL_57717892d9da431dbb703107e4668a51"
          }
        },
        "8334337bf24144f3b3916c83ef287ad2": {
          "model_module": "@jupyter-widgets/controls",
          "model_name": "ProgressStyleModel",
          "model_module_version": "1.5.0",
          "state": {
            "_view_name": "StyleView",
            "_model_name": "ProgressStyleModel",
            "description_width": "initial",
            "_view_module": "@jupyter-widgets/base",
            "_model_module_version": "1.5.0",
            "_view_count": null,
            "_view_module_version": "1.2.0",
            "bar_color": null,
            "_model_module": "@jupyter-widgets/controls"
          }
        },
        "c8f78cd183554e9faea51d2d17250e31": {
          "model_module": "@jupyter-widgets/base",
          "model_name": "LayoutModel",
          "model_module_version": "1.2.0",
          "state": {
            "_view_name": "LayoutView",
            "grid_template_rows": null,
            "right": null,
            "justify_content": null,
            "_view_module": "@jupyter-widgets/base",
            "overflow": null,
            "_model_module_version": "1.2.0",
            "_view_count": null,
            "flex_flow": null,
            "width": null,
            "min_width": null,
            "border": null,
            "align_items": null,
            "bottom": null,
            "_model_module": "@jupyter-widgets/base",
            "top": null,
            "grid_column": null,
            "overflow_y": null,
            "overflow_x": null,
            "grid_auto_flow": null,
            "grid_area": null,
            "grid_template_columns": null,
            "flex": null,
            "_model_name": "LayoutModel",
            "justify_items": null,
            "grid_row": null,
            "max_height": null,
            "align_content": null,
            "visibility": null,
            "align_self": null,
            "height": null,
            "min_height": null,
            "padding": null,
            "grid_auto_rows": null,
            "grid_gap": null,
            "max_width": null,
            "order": null,
            "_view_module_version": "1.2.0",
            "grid_template_areas": null,
            "object_position": null,
            "object_fit": null,
            "grid_auto_columns": null,
            "margin": null,
            "display": null,
            "left": null
          }
        },
        "c0f2d71bc05e4b8c92a4bb5dd4d5d018": {
          "model_module": "@jupyter-widgets/controls",
          "model_name": "DescriptionStyleModel",
          "model_module_version": "1.5.0",
          "state": {
            "_view_name": "StyleView",
            "_model_name": "DescriptionStyleModel",
            "description_width": "",
            "_view_module": "@jupyter-widgets/base",
            "_model_module_version": "1.5.0",
            "_view_count": null,
            "_view_module_version": "1.2.0",
            "_model_module": "@jupyter-widgets/controls"
          }
        },
        "57717892d9da431dbb703107e4668a51": {
          "model_module": "@jupyter-widgets/base",
          "model_name": "LayoutModel",
          "model_module_version": "1.2.0",
          "state": {
            "_view_name": "LayoutView",
            "grid_template_rows": null,
            "right": null,
            "justify_content": null,
            "_view_module": "@jupyter-widgets/base",
            "overflow": null,
            "_model_module_version": "1.2.0",
            "_view_count": null,
            "flex_flow": null,
            "width": null,
            "min_width": null,
            "border": null,
            "align_items": null,
            "bottom": null,
            "_model_module": "@jupyter-widgets/base",
            "top": null,
            "grid_column": null,
            "overflow_y": null,
            "overflow_x": null,
            "grid_auto_flow": null,
            "grid_area": null,
            "grid_template_columns": null,
            "flex": null,
            "_model_name": "LayoutModel",
            "justify_items": null,
            "grid_row": null,
            "max_height": null,
            "align_content": null,
            "visibility": null,
            "align_self": null,
            "height": null,
            "min_height": null,
            "padding": null,
            "grid_auto_rows": null,
            "grid_gap": null,
            "max_width": null,
            "order": null,
            "_view_module_version": "1.2.0",
            "grid_template_areas": null,
            "object_position": null,
            "object_fit": null,
            "grid_auto_columns": null,
            "margin": null,
            "display": null,
            "left": null
          }
        },
        "13eb42c49d2e4c6fa41e08a81ab4a9cc": {
          "model_module": "@jupyter-widgets/controls",
          "model_name": "HBoxModel",
          "model_module_version": "1.5.0",
          "state": {
            "_view_name": "HBoxView",
            "_dom_classes": [],
            "_model_name": "HBoxModel",
            "_view_module": "@jupyter-widgets/controls",
            "_model_module_version": "1.5.0",
            "_view_count": null,
            "_view_module_version": "1.5.0",
            "box_style": "",
            "layout": "IPY_MODEL_7e78d423be8e46de8954cc0d2699686e",
            "_model_module": "@jupyter-widgets/controls",
            "children": [
              "IPY_MODEL_79f96073e4864e8e93d94e85e77bcab8",
              "IPY_MODEL_f216580379ab4cb1afb00a4db5bb9b73"
            ]
          }
        },
        "7e78d423be8e46de8954cc0d2699686e": {
          "model_module": "@jupyter-widgets/base",
          "model_name": "LayoutModel",
          "model_module_version": "1.2.0",
          "state": {
            "_view_name": "LayoutView",
            "grid_template_rows": null,
            "right": null,
            "justify_content": null,
            "_view_module": "@jupyter-widgets/base",
            "overflow": null,
            "_model_module_version": "1.2.0",
            "_view_count": null,
            "flex_flow": null,
            "width": null,
            "min_width": null,
            "border": null,
            "align_items": null,
            "bottom": null,
            "_model_module": "@jupyter-widgets/base",
            "top": null,
            "grid_column": null,
            "overflow_y": null,
            "overflow_x": null,
            "grid_auto_flow": null,
            "grid_area": null,
            "grid_template_columns": null,
            "flex": null,
            "_model_name": "LayoutModel",
            "justify_items": null,
            "grid_row": null,
            "max_height": null,
            "align_content": null,
            "visibility": null,
            "align_self": null,
            "height": null,
            "min_height": null,
            "padding": null,
            "grid_auto_rows": null,
            "grid_gap": null,
            "max_width": null,
            "order": null,
            "_view_module_version": "1.2.0",
            "grid_template_areas": null,
            "object_position": null,
            "object_fit": null,
            "grid_auto_columns": null,
            "margin": null,
            "display": null,
            "left": null
          }
        },
        "79f96073e4864e8e93d94e85e77bcab8": {
          "model_module": "@jupyter-widgets/controls",
          "model_name": "FloatProgressModel",
          "model_module_version": "1.5.0",
          "state": {
            "_view_name": "ProgressView",
            "style": "IPY_MODEL_6e857faee9944047b85176ca8f78bb93",
            "_dom_classes": [],
            "description": "Downloading: 100%",
            "_model_name": "FloatProgressModel",
            "bar_style": "success",
            "max": 1355863,
            "_view_module": "@jupyter-widgets/controls",
            "_model_module_version": "1.5.0",
            "value": 1355863,
            "_view_count": null,
            "_view_module_version": "1.5.0",
            "orientation": "horizontal",
            "min": 0,
            "description_tooltip": null,
            "_model_module": "@jupyter-widgets/controls",
            "layout": "IPY_MODEL_0dee705117b841fa9c6e24ef21520b61"
          }
        },
        "f216580379ab4cb1afb00a4db5bb9b73": {
          "model_module": "@jupyter-widgets/controls",
          "model_name": "HTMLModel",
          "model_module_version": "1.5.0",
          "state": {
            "_view_name": "HTMLView",
            "style": "IPY_MODEL_ab195d1bc35b41538c045934e5e862c0",
            "_dom_classes": [],
            "description": "",
            "_model_name": "HTMLModel",
            "placeholder": "​",
            "_view_module": "@jupyter-widgets/controls",
            "_model_module_version": "1.5.0",
            "value": " 1.36M/1.36M [00:00&lt;00:00, 10.2MB/s]",
            "_view_count": null,
            "_view_module_version": "1.5.0",
            "description_tooltip": null,
            "_model_module": "@jupyter-widgets/controls",
            "layout": "IPY_MODEL_342a43b8667f4587b60f6e2909126633"
          }
        },
        "6e857faee9944047b85176ca8f78bb93": {
          "model_module": "@jupyter-widgets/controls",
          "model_name": "ProgressStyleModel",
          "model_module_version": "1.5.0",
          "state": {
            "_view_name": "StyleView",
            "_model_name": "ProgressStyleModel",
            "description_width": "initial",
            "_view_module": "@jupyter-widgets/base",
            "_model_module_version": "1.5.0",
            "_view_count": null,
            "_view_module_version": "1.2.0",
            "bar_color": null,
            "_model_module": "@jupyter-widgets/controls"
          }
        },
        "0dee705117b841fa9c6e24ef21520b61": {
          "model_module": "@jupyter-widgets/base",
          "model_name": "LayoutModel",
          "model_module_version": "1.2.0",
          "state": {
            "_view_name": "LayoutView",
            "grid_template_rows": null,
            "right": null,
            "justify_content": null,
            "_view_module": "@jupyter-widgets/base",
            "overflow": null,
            "_model_module_version": "1.2.0",
            "_view_count": null,
            "flex_flow": null,
            "width": null,
            "min_width": null,
            "border": null,
            "align_items": null,
            "bottom": null,
            "_model_module": "@jupyter-widgets/base",
            "top": null,
            "grid_column": null,
            "overflow_y": null,
            "overflow_x": null,
            "grid_auto_flow": null,
            "grid_area": null,
            "grid_template_columns": null,
            "flex": null,
            "_model_name": "LayoutModel",
            "justify_items": null,
            "grid_row": null,
            "max_height": null,
            "align_content": null,
            "visibility": null,
            "align_self": null,
            "height": null,
            "min_height": null,
            "padding": null,
            "grid_auto_rows": null,
            "grid_gap": null,
            "max_width": null,
            "order": null,
            "_view_module_version": "1.2.0",
            "grid_template_areas": null,
            "object_position": null,
            "object_fit": null,
            "grid_auto_columns": null,
            "margin": null,
            "display": null,
            "left": null
          }
        },
        "ab195d1bc35b41538c045934e5e862c0": {
          "model_module": "@jupyter-widgets/controls",
          "model_name": "DescriptionStyleModel",
          "model_module_version": "1.5.0",
          "state": {
            "_view_name": "StyleView",
            "_model_name": "DescriptionStyleModel",
            "description_width": "",
            "_view_module": "@jupyter-widgets/base",
            "_model_module_version": "1.5.0",
            "_view_count": null,
            "_view_module_version": "1.2.0",
            "_model_module": "@jupyter-widgets/controls"
          }
        },
        "342a43b8667f4587b60f6e2909126633": {
          "model_module": "@jupyter-widgets/base",
          "model_name": "LayoutModel",
          "model_module_version": "1.2.0",
          "state": {
            "_view_name": "LayoutView",
            "grid_template_rows": null,
            "right": null,
            "justify_content": null,
            "_view_module": "@jupyter-widgets/base",
            "overflow": null,
            "_model_module_version": "1.2.0",
            "_view_count": null,
            "flex_flow": null,
            "width": null,
            "min_width": null,
            "border": null,
            "align_items": null,
            "bottom": null,
            "_model_module": "@jupyter-widgets/base",
            "top": null,
            "grid_column": null,
            "overflow_y": null,
            "overflow_x": null,
            "grid_auto_flow": null,
            "grid_area": null,
            "grid_template_columns": null,
            "flex": null,
            "_model_name": "LayoutModel",
            "justify_items": null,
            "grid_row": null,
            "max_height": null,
            "align_content": null,
            "visibility": null,
            "align_self": null,
            "height": null,
            "min_height": null,
            "padding": null,
            "grid_auto_rows": null,
            "grid_gap": null,
            "max_width": null,
            "order": null,
            "_view_module_version": "1.2.0",
            "grid_template_areas": null,
            "object_position": null,
            "object_fit": null,
            "grid_auto_columns": null,
            "margin": null,
            "display": null,
            "left": null
          }
        }
      }
    }
  },
  "cells": [
    {
      "cell_type": "code",
      "metadata": {
        "id": "cFL9Z7CkrlAg",
        "colab": {
          "base_uri": "https://localhost:8080/"
        },
        "outputId": "66f614ff-1f5d-47ba-f67a-9331e725f876"
      },
      "source": [
        "# Transformers installation\n",
        "!pip install transformers==2.8.0\n",
        "!pip install torch==1.4.0\n",
        "!pip install newspaper3k\n",
        "!pip install sentencepiece\n",
        "# To install from source instead of the last release, comment the command above and uncomment the following one.\n",
        "# ! pip install git+https://github.com/huggingface/transformers.git"
      ],
      "execution_count": null,
      "outputs": [
        {
          "output_type": "stream",
          "text": [
            "Collecting transformers==2.8.0\n",
            "  Downloading transformers-2.8.0-py3-none-any.whl (563 kB)\n",
            "\u001b[?25l\r\u001b[K     |▋                               | 10 kB 18.2 MB/s eta 0:00:01\r\u001b[K     |█▏                              | 20 kB 22.6 MB/s eta 0:00:01\r\u001b[K     |█▊                              | 30 kB 23.2 MB/s eta 0:00:01\r\u001b[K     |██▎                             | 40 kB 18.9 MB/s eta 0:00:01\r\u001b[K     |███                             | 51 kB 12.9 MB/s eta 0:00:01\r\u001b[K     |███▌                            | 61 kB 10.6 MB/s eta 0:00:01\r\u001b[K     |████                            | 71 kB 11.4 MB/s eta 0:00:01\r\u001b[K     |████▋                           | 81 kB 11.5 MB/s eta 0:00:01\r\u001b[K     |█████▎                          | 92 kB 11.9 MB/s eta 0:00:01\r\u001b[K     |█████▉                          | 102 kB 12.8 MB/s eta 0:00:01\r\u001b[K     |██████▍                         | 112 kB 12.8 MB/s eta 0:00:01\r\u001b[K     |███████                         | 122 kB 12.8 MB/s eta 0:00:01\r\u001b[K     |███████▋                        | 133 kB 12.8 MB/s eta 0:00:01\r\u001b[K     |████████▏                       | 143 kB 12.8 MB/s eta 0:00:01\r\u001b[K     |████████▊                       | 153 kB 12.8 MB/s eta 0:00:01\r\u001b[K     |█████████▎                      | 163 kB 12.8 MB/s eta 0:00:01\r\u001b[K     |█████████▉                      | 174 kB 12.8 MB/s eta 0:00:01\r\u001b[K     |██████████▌                     | 184 kB 12.8 MB/s eta 0:00:01\r\u001b[K     |███████████                     | 194 kB 12.8 MB/s eta 0:00:01\r\u001b[K     |███████████▋                    | 204 kB 12.8 MB/s eta 0:00:01\r\u001b[K     |████████████▏                   | 215 kB 12.8 MB/s eta 0:00:01\r\u001b[K     |████████████▉                   | 225 kB 12.8 MB/s eta 0:00:01\r\u001b[K     |█████████████▍                  | 235 kB 12.8 MB/s eta 0:00:01\r\u001b[K     |██████████████                  | 245 kB 12.8 MB/s eta 0:00:01\r\u001b[K     |██████████████▌                 | 256 kB 12.8 MB/s eta 0:00:01\r\u001b[K     |███████████████▏                | 266 kB 12.8 MB/s eta 0:00:01\r\u001b[K     |███████████████▊                | 276 kB 12.8 MB/s eta 0:00:01\r\u001b[K     |████████████████▎               | 286 kB 12.8 MB/s eta 0:00:01\r\u001b[K     |████████████████▉               | 296 kB 12.8 MB/s eta 0:00:01\r\u001b[K     |█████████████████▍              | 307 kB 12.8 MB/s eta 0:00:01\r\u001b[K     |██████████████████              | 317 kB 12.8 MB/s eta 0:00:01\r\u001b[K     |██████████████████▋             | 327 kB 12.8 MB/s eta 0:00:01\r\u001b[K     |███████████████████▏            | 337 kB 12.8 MB/s eta 0:00:01\r\u001b[K     |███████████████████▊            | 348 kB 12.8 MB/s eta 0:00:01\r\u001b[K     |████████████████████▍           | 358 kB 12.8 MB/s eta 0:00:01\r\u001b[K     |█████████████████████           | 368 kB 12.8 MB/s eta 0:00:01\r\u001b[K     |█████████████████████▌          | 378 kB 12.8 MB/s eta 0:00:01\r\u001b[K     |██████████████████████          | 389 kB 12.8 MB/s eta 0:00:01\r\u001b[K     |██████████████████████▊         | 399 kB 12.8 MB/s eta 0:00:01\r\u001b[K     |███████████████████████▎        | 409 kB 12.8 MB/s eta 0:00:01\r\u001b[K     |███████████████████████▉        | 419 kB 12.8 MB/s eta 0:00:01\r\u001b[K     |████████████████████████▍       | 430 kB 12.8 MB/s eta 0:00:01\r\u001b[K     |█████████████████████████       | 440 kB 12.8 MB/s eta 0:00:01\r\u001b[K     |█████████████████████████▋      | 450 kB 12.8 MB/s eta 0:00:01\r\u001b[K     |██████████████████████████▏     | 460 kB 12.8 MB/s eta 0:00:01\r\u001b[K     |██████████████████████████▊     | 471 kB 12.8 MB/s eta 0:00:01\r\u001b[K     |███████████████████████████▎    | 481 kB 12.8 MB/s eta 0:00:01\r\u001b[K     |████████████████████████████    | 491 kB 12.8 MB/s eta 0:00:01\r\u001b[K     |████████████████████████████▌   | 501 kB 12.8 MB/s eta 0:00:01\r\u001b[K     |█████████████████████████████   | 512 kB 12.8 MB/s eta 0:00:01\r\u001b[K     |█████████████████████████████▋  | 522 kB 12.8 MB/s eta 0:00:01\r\u001b[K     |██████████████████████████████▎ | 532 kB 12.8 MB/s eta 0:00:01\r\u001b[K     |██████████████████████████████▉ | 542 kB 12.8 MB/s eta 0:00:01\r\u001b[K     |███████████████████████████████▍| 552 kB 12.8 MB/s eta 0:00:01\r\u001b[K     |████████████████████████████████| 563 kB 12.8 MB/s eta 0:00:01\r\u001b[K     |████████████████████████████████| 563 kB 12.8 MB/s \n",
            "\u001b[?25hRequirement already satisfied: numpy in /usr/local/lib/python3.7/dist-packages (from transformers==2.8.0) (1.19.5)\n",
            "Requirement already satisfied: requests in /usr/local/lib/python3.7/dist-packages (from transformers==2.8.0) (2.23.0)\n",
            "Requirement already satisfied: tqdm>=4.27 in /usr/local/lib/python3.7/dist-packages (from transformers==2.8.0) (4.41.1)\n",
            "Collecting boto3\n",
            "  Downloading boto3-1.18.6-py3-none-any.whl (131 kB)\n",
            "\u001b[K     |████████████████████████████████| 131 kB 40.4 MB/s \n",
            "\u001b[?25hRequirement already satisfied: regex!=2019.12.17 in /usr/local/lib/python3.7/dist-packages (from transformers==2.8.0) (2019.12.20)\n",
            "Collecting sacremoses\n",
            "  Downloading sacremoses-0.0.45-py3-none-any.whl (895 kB)\n",
            "\u001b[K     |████████████████████████████████| 895 kB 35.2 MB/s \n",
            "\u001b[?25hRequirement already satisfied: filelock in /usr/local/lib/python3.7/dist-packages (from transformers==2.8.0) (3.0.12)\n",
            "Collecting tokenizers==0.5.2\n",
            "  Downloading tokenizers-0.5.2-cp37-cp37m-manylinux1_x86_64.whl (5.6 MB)\n",
            "\u001b[K     |████████████████████████████████| 5.6 MB 23.8 MB/s \n",
            "\u001b[?25hCollecting sentencepiece\n",
            "  Downloading sentencepiece-0.1.96-cp37-cp37m-manylinux_2_17_x86_64.manylinux2014_x86_64.whl (1.2 MB)\n",
            "\u001b[K     |████████████████████████████████| 1.2 MB 43.9 MB/s \n",
            "\u001b[?25hCollecting jmespath<1.0.0,>=0.7.1\n",
            "  Downloading jmespath-0.10.0-py2.py3-none-any.whl (24 kB)\n",
            "Collecting s3transfer<0.6.0,>=0.5.0\n",
            "  Downloading s3transfer-0.5.0-py3-none-any.whl (79 kB)\n",
            "\u001b[K     |████████████████████████████████| 79 kB 7.5 MB/s \n",
            "\u001b[?25hCollecting botocore<1.22.0,>=1.21.6\n",
            "  Downloading botocore-1.21.6-py3-none-any.whl (7.7 MB)\n",
            "\u001b[K     |████████████████████████████████| 7.7 MB 39.9 MB/s \n",
            "\u001b[?25hCollecting urllib3<1.27,>=1.25.4\n",
            "  Downloading urllib3-1.26.6-py2.py3-none-any.whl (138 kB)\n",
            "\u001b[K     |████████████████████████████████| 138 kB 50.9 MB/s \n",
            "\u001b[?25hRequirement already satisfied: python-dateutil<3.0.0,>=2.1 in /usr/local/lib/python3.7/dist-packages (from botocore<1.22.0,>=1.21.6->boto3->transformers==2.8.0) (2.8.1)\n",
            "Requirement already satisfied: six>=1.5 in /usr/local/lib/python3.7/dist-packages (from python-dateutil<3.0.0,>=2.1->botocore<1.22.0,>=1.21.6->boto3->transformers==2.8.0) (1.15.0)\n",
            "  Downloading urllib3-1.25.11-py2.py3-none-any.whl (127 kB)\n",
            "\u001b[K     |████████████████████████████████| 127 kB 47.0 MB/s \n",
            "\u001b[?25hRequirement already satisfied: certifi>=2017.4.17 in /usr/local/lib/python3.7/dist-packages (from requests->transformers==2.8.0) (2021.5.30)\n",
            "Requirement already satisfied: chardet<4,>=3.0.2 in /usr/local/lib/python3.7/dist-packages (from requests->transformers==2.8.0) (3.0.4)\n",
            "Requirement already satisfied: idna<3,>=2.5 in /usr/local/lib/python3.7/dist-packages (from requests->transformers==2.8.0) (2.10)\n",
            "Requirement already satisfied: click in /usr/local/lib/python3.7/dist-packages (from sacremoses->transformers==2.8.0) (7.1.2)\n",
            "Requirement already satisfied: joblib in /usr/local/lib/python3.7/dist-packages (from sacremoses->transformers==2.8.0) (1.0.1)\n",
            "Installing collected packages: urllib3, jmespath, botocore, s3transfer, tokenizers, sentencepiece, sacremoses, boto3, transformers\n",
            "  Attempting uninstall: urllib3\n",
            "    Found existing installation: urllib3 1.24.3\n",
            "    Uninstalling urllib3-1.24.3:\n",
            "      Successfully uninstalled urllib3-1.24.3\n",
            "\u001b[31mERROR: pip's dependency resolver does not currently take into account all the packages that are installed. This behaviour is the source of the following dependency conflicts.\n",
            "datascience 0.10.6 requires folium==0.2.1, but you have folium 0.8.3 which is incompatible.\u001b[0m\n",
            "Successfully installed boto3-1.18.6 botocore-1.21.6 jmespath-0.10.0 s3transfer-0.5.0 sacremoses-0.0.45 sentencepiece-0.1.96 tokenizers-0.5.2 transformers-2.8.0 urllib3-1.25.11\n",
            "Collecting torch==1.4.0\n",
            "  Downloading torch-1.4.0-cp37-cp37m-manylinux1_x86_64.whl (753.4 MB)\n",
            "\u001b[K     |████████████████████████████████| 753.4 MB 6.8 kB/s \n",
            "\u001b[?25hInstalling collected packages: torch\n",
            "  Attempting uninstall: torch\n",
            "    Found existing installation: torch 1.9.0+cu102\n",
            "    Uninstalling torch-1.9.0+cu102:\n",
            "      Successfully uninstalled torch-1.9.0+cu102\n",
            "\u001b[31mERROR: pip's dependency resolver does not currently take into account all the packages that are installed. This behaviour is the source of the following dependency conflicts.\n",
            "torchvision 0.10.0+cu102 requires torch==1.9.0, but you have torch 1.4.0 which is incompatible.\n",
            "torchtext 0.10.0 requires torch==1.9.0, but you have torch 1.4.0 which is incompatible.\u001b[0m\n",
            "Successfully installed torch-1.4.0\n",
            "Collecting newspaper3k\n",
            "  Downloading newspaper3k-0.2.8-py3-none-any.whl (211 kB)\n",
            "\u001b[K     |████████████████████████████████| 211 kB 11.8 MB/s \n",
            "\u001b[?25hCollecting cssselect>=0.9.2\n",
            "  Downloading cssselect-1.1.0-py2.py3-none-any.whl (16 kB)\n",
            "Collecting tldextract>=2.0.1\n",
            "  Downloading tldextract-3.1.0-py2.py3-none-any.whl (87 kB)\n",
            "\u001b[K     |████████████████████████████████| 87 kB 5.1 MB/s \n",
            "\u001b[?25hRequirement already satisfied: nltk>=3.2.1 in /usr/local/lib/python3.7/dist-packages (from newspaper3k) (3.2.5)\n",
            "Requirement already satisfied: PyYAML>=3.11 in /usr/local/lib/python3.7/dist-packages (from newspaper3k) (3.13)\n",
            "Collecting jieba3k>=0.35.1\n",
            "  Downloading jieba3k-0.35.1.zip (7.4 MB)\n",
            "\u001b[K     |████████████████████████████████| 7.4 MB 20.7 MB/s \n",
            "\u001b[?25hRequirement already satisfied: python-dateutil>=2.5.3 in /usr/local/lib/python3.7/dist-packages (from newspaper3k) (2.8.1)\n",
            "Collecting tinysegmenter==0.3\n",
            "  Downloading tinysegmenter-0.3.tar.gz (16 kB)\n",
            "Collecting feedfinder2>=0.0.4\n",
            "  Downloading feedfinder2-0.0.4.tar.gz (3.3 kB)\n",
            "Collecting feedparser>=5.2.1\n",
            "  Downloading feedparser-6.0.8-py3-none-any.whl (81 kB)\n",
            "\u001b[K     |████████████████████████████████| 81 kB 8.5 MB/s \n",
            "\u001b[?25hRequirement already satisfied: beautifulsoup4>=4.4.1 in /usr/local/lib/python3.7/dist-packages (from newspaper3k) (4.6.3)\n",
            "Requirement already satisfied: requests>=2.10.0 in /usr/local/lib/python3.7/dist-packages (from newspaper3k) (2.23.0)\n",
            "Requirement already satisfied: Pillow>=3.3.0 in /usr/local/lib/python3.7/dist-packages (from newspaper3k) (7.1.2)\n",
            "Requirement already satisfied: lxml>=3.6.0 in /usr/local/lib/python3.7/dist-packages (from newspaper3k) (4.2.6)\n",
            "Requirement already satisfied: six in /usr/local/lib/python3.7/dist-packages (from feedfinder2>=0.0.4->newspaper3k) (1.15.0)\n",
            "Collecting sgmllib3k\n",
            "  Downloading sgmllib3k-1.0.0.tar.gz (5.8 kB)\n",
            "Requirement already satisfied: chardet<4,>=3.0.2 in /usr/local/lib/python3.7/dist-packages (from requests>=2.10.0->newspaper3k) (3.0.4)\n",
            "Requirement already satisfied: certifi>=2017.4.17 in /usr/local/lib/python3.7/dist-packages (from requests>=2.10.0->newspaper3k) (2021.5.30)\n",
            "Requirement already satisfied: urllib3!=1.25.0,!=1.25.1,<1.26,>=1.21.1 in /usr/local/lib/python3.7/dist-packages (from requests>=2.10.0->newspaper3k) (1.25.11)\n",
            "Requirement already satisfied: idna<3,>=2.5 in /usr/local/lib/python3.7/dist-packages (from requests>=2.10.0->newspaper3k) (2.10)\n",
            "Collecting requests-file>=1.4\n",
            "  Downloading requests_file-1.5.1-py2.py3-none-any.whl (3.7 kB)\n",
            "Requirement already satisfied: filelock>=3.0.8 in /usr/local/lib/python3.7/dist-packages (from tldextract>=2.0.1->newspaper3k) (3.0.12)\n",
            "Building wheels for collected packages: tinysegmenter, feedfinder2, jieba3k, sgmllib3k\n",
            "  Building wheel for tinysegmenter (setup.py) ... \u001b[?25l\u001b[?25hdone\n",
            "  Created wheel for tinysegmenter: filename=tinysegmenter-0.3-py3-none-any.whl size=13551 sha256=a004a5002474d69eb2e24a90288800b676dff632736a5005da40555451127465\n",
            "  Stored in directory: /root/.cache/pip/wheels/df/67/41/faca10fa501ca010be41b49d40360c2959e1c4f09bcbfa37fa\n",
            "  Building wheel for feedfinder2 (setup.py) ... \u001b[?25l\u001b[?25hdone\n",
            "  Created wheel for feedfinder2: filename=feedfinder2-0.0.4-py3-none-any.whl size=3354 sha256=19f8bb0060e38e66812453355c7cf3aa8ffe614438d77c84b8201e61b4946e13\n",
            "  Stored in directory: /root/.cache/pip/wheels/7f/d4/8f/6e2ca54744c9d7292d88ddb8d42876bcdab5e6d84a21c10346\n",
            "  Building wheel for jieba3k (setup.py) ... \u001b[?25l\u001b[?25hdone\n",
            "  Created wheel for jieba3k: filename=jieba3k-0.35.1-py3-none-any.whl size=7398404 sha256=a9f12feb245ebd23f42c98d14723c55ebad04f5b5a95ff291823b41fcd07d66a\n",
            "  Stored in directory: /root/.cache/pip/wheels/4c/91/46/3c208287b726df325a5979574324878b679116e4baae1af3c3\n",
            "  Building wheel for sgmllib3k (setup.py) ... \u001b[?25l\u001b[?25hdone\n",
            "  Created wheel for sgmllib3k: filename=sgmllib3k-1.0.0-py3-none-any.whl size=6065 sha256=1b0e1b6bcff8886a5bedba4c52371471d3e8f90d4d0fcbc3006f04c59da8e2f6\n",
            "  Stored in directory: /root/.cache/pip/wheels/73/ad/a4/0dff4a6ef231fc0dfa12ffbac2a36cebfdddfe059f50e019aa\n",
            "Successfully built tinysegmenter feedfinder2 jieba3k sgmllib3k\n",
            "Installing collected packages: sgmllib3k, requests-file, tldextract, tinysegmenter, jieba3k, feedparser, feedfinder2, cssselect, newspaper3k\n",
            "Successfully installed cssselect-1.1.0 feedfinder2-0.0.4 feedparser-6.0.8 jieba3k-0.35.1 newspaper3k-0.2.8 requests-file-1.5.1 sgmllib3k-1.0.0 tinysegmenter-0.3 tldextract-3.1.0\n",
            "Requirement already satisfied: sentencepiece in /usr/local/lib/python3.7/dist-packages (0.1.96)\n"
          ],
          "name": "stdout"
        }
      ]
    },
    {
      "cell_type": "markdown",
      "metadata": {
        "id": "7GGmWTmKrlAu"
      },
      "source": [
        "# Summary of the tasks\n",
        "\n",
        "1. Article Summerization using Method 1\n",
        "2. Article Summerization using Method 2"
      ]
    },
    {
      "cell_type": "markdown",
      "metadata": {
        "id": "XBof8XL9rlB-"
      },
      "source": [
        "## Article Summarization"
      ]
    },
    {
      "cell_type": "markdown",
      "metadata": {
        "id": "MNEiYU3CrlB_"
      },
      "source": [
        "Summarization is the task of summarizing a document or an article into a shorter text. If you would like to fine-tune a\n",
        "model on a summarization task, you may leverage the [run_summarization.py](https://github.com/huggingface/transformers/tree/master/examples/pytorch/summarization/run_summarization.py)\n",
        "script.\n",
        "\n",
        "An example of a summarization dataset is the CNN / Daily Mail dataset, which consists of long news articles and was\n",
        "created for the task of summarization. If you would like to fine-tune a model on a summarization task, various\n",
        "approaches are described in this :prefix_link:*document <examples/pytorch/summarization/README.md>*.\n",
        "\n",
        "Here is an example of using the pipelines to do summarization. It leverages a Bart model that was fine-tuned on the CNN\n",
        "/ Daily Mail data set.\n",
        "\n",
        "\n",
        "The Input to model can be either \"TEXT FILE\" or \" Direct String\""
      ]
    },
    {
      "cell_type": "markdown",
      "metadata": {
        "id": "TWPYRV5_KZV_"
      },
      "source": [
        "\n",
        "\n",
        "This summarizing pipeline can currently be loaded from pipeline() using the following task identifier: \"summarization\".\n",
        "\n",
        "The models that this pipeline can use are models that have been fine-tuned on a summarization task, which is currently, **‘bart-large-cnn’, ‘t5-small’, ‘t5-base’, ‘t5-large’, ‘t5-3b’, ‘t5-11b’.** "
      ]
    },
    {
      "cell_type": "markdown",
      "metadata": {
        "id": "TxSeWl0ZK17q"
      },
      "source": [
        "Up To date all the available Model @ [https://huggingface.co/models?filter=summarization](https://)"
      ]
    },
    {
      "cell_type": "markdown",
      "metadata": {
        "id": "KbsUuiZX4Zzw"
      },
      "source": [
        "**Article 1**"
      ]
    },
    {
      "cell_type": "code",
      "metadata": {
        "id": "R_kZcUAu4T7N"
      },
      "source": [
        "# Article_1=\"\"\"In a historic move, the US government has announced that it supports waiving patent protections for COVID-19 vaccines, a measure aimed at boosting supplies so that people around the world can get the shots. “The extraordinary circumstances of the COVID-19 pandemic call for extraordinary measures,” said US trade representative Katherine Tai in a statement. The move came on 5 May, the first of a two-day meeting of the general council of the World Trade Organization, based in Geneva, Switzerland. Until now, the United States, the European Union, the United Kingdom and Japan have blocked efforts brought by India and South Africa to make it legal to manufacture generic versions of COVID-19 vaccines. Former US presidents from both the Republican and the Democratic parties have staunchly defended intellectual-property rights, so the move by the administration of President Joe Biden has shocked people on both sides of the debate. \"This marks a major shift in US policy in a pro-public-health way,\" says Matthew Kavanagh, a global-health researcher at Georgetown University in Washington DC. Kavanagh is part of the growing chorus of health-policy and global-health researchers advocating patent waivers, as the gap between vaccination rates in rich and poor nations grows larger every day. \n",
        "# Fewer than 1% of people in low-income countries have received COVID-19 vaccines. The researchers are quick to note, however, that a waiver on patents covering all aspects of COVID-19 vaccines would be just the first step in ramping up vaccine supply. “It’s a one-two-three,” explains Rachel Cohen, US director for the non-profit Drugs and Neglected Diseases initiative in New York City. “First we need to remove patent obstacles, second we need to transfer the knowledge on how to make them, and step three is a massive investment in manufacturing capacity.” And at the moment, step one is far from complete. The World Trade Organization will not negotiate the details of which patents to adjust until all its member countries agree on some sort of waiver. Health-policy analysts speculate that other countries will follow in the footsteps of the United States, although the European Union might hold out beyond the end of the meeting. South Africa and India have proposed waivers on patents, not only on vaccines, but also on COVID-19-related medical devices, drugs and diagnostic technologies; so far, Tai’s statement mentions only vaccines. Drugmakers and others who oppose the measure say that waivers sabotage companies’ enormous investments in drug and vaccine development, which are compensated by their ability to set the price on products that they exclusively own. \n",
        "# Normally, patents reward pharmaceutical companies by protecting their inventions from competition by generics for a limited time—US patents on drugs typically last for 20 years. Drug companies aren’t the only opponents of the measure. In a 25 April interview with Sky News, global health philanthropist and Microsoft co-founder Bill Gates argued against intellectual-property waivers, saying that manufacturers of generics couldn’t ramp up production quickly, and that vaccine quality could be compromised. After the US government's waiver announcement, the industry group Pharmaceutical Research and Manufacturers of America released a statement echoing these points, saying: “The Biden Administration has taken an unprecedented step that will undermine our global response to the pandemic and compromise safety.” Proponents of the waiver disagree, pointing out that generics manufacturers have been supplying the world with high-quality vaccines and medicines for years. They point out that taxpayers helped to foot the bill for the development of several COVID-19 vaccines, and say that the claim that pharmaceutical companies must recoup all the costs is therefore unfair—especially during a crisis. Several other obstacles must be addressed, however, such as making sure distribution is equitable. \n",
        "# Cohen says: These vaccines are an unparalleled triumph for science, but if only 20% or 30% of the world winds up benefiting, what is the point of the innovation?\n",
        "# \"\"\""
      ],
      "execution_count": null,
      "outputs": []
    },
    {
      "cell_type": "markdown",
      "metadata": {
        "id": "8As6dC4o4fkc"
      },
      "source": [
        "**Article 2**"
      ]
    },
    {
      "cell_type": "code",
      "metadata": {
        "id": "slDLGGzB4jUl"
      },
      "source": [
        "# Article_2=\"\"\"\n",
        "# I have never had as much suicidal ideation as I’ve had over the last year and a half, during this pandemic.\n",
        "# I have not been in any particular physical danger. Thinking about ending one’s life can be an understandable coping mechanism to survive adverse conditions, such as living alone through a pandemic and going without touch or indoor companionship for months on end. I have a good therapist, and my ideas about suicide never progressed beyond thoughts towards making any plans to actually go through with it.\n",
        "# The “logic” to these thoughts happened in a cycle like this.\n",
        "\n",
        "# After eating 21 meals alone week, week after week, I craved being close to other people.\n",
        "# But if I gave in to such urges, I feared, based on a no-risk mentality, that I might unwittingly set off a COVID infection chain that would kill people.\n",
        "# Feeling like I couldn’t take another 21, 42, 63 or 84 meals alone, I’d think to myself at times, “Well, if you’ve got to kill someone, it might as well be you, Steven.”\n",
        "# “Better just to erase myself from the equation,” I’d think, lest my desires inadvertently kill someone else.\n",
        "# While not lethal, these thoughts caused me great emotional pain and mental anguish. And when I felt my first vaccine shot punctuate my left arm recently, I felt a palpable sense of relief as those excruciating thoughts drifted out of mind and body—hopefully for good.\n",
        "\n",
        "# When COVID first began to shut down the United States, I feared how single people who live alone like me would be expected to just suck it up and deal with a purely solitary life. (I also feared how domestic violence would affect families.) Yet while I often tell other people that risk lies on a spectrum, that it’s not absolute, I had a hard time granting myself any leeway with thinking I could put anyone else at any risk. And so, I have been painfully alone for almost all of the time I’ve spent indoors over the past year.\n",
        "# Now, as increasing numbers of Americans are getting vaccinated, the risk of many activities is mercifully plummeting. If it ever was, I believe it is no longer excusable to attempt an impossible no-risk approach to life in an ongoing pandemic that may well become endemic. As we fight for a more just world, we must also learn to live with a spectrum of risk.\n",
        "# A key to doing this is for those of us who are researchers, journalists or both to better narrate the concept of risk. Let us consider three examples of how news media could do a better job.\n",
        "\n",
        "# On April 25, a New York Times headline irresponsibly screamed that “Millions Are Skipping Their Second Doses of Covid Vaccines.” While technically true, the headline’s framing obscured something more exciting and newsworthy: out of more than 60 million people, it was only a scant “8 percent of those who got initial Pfizer or Moderna shots” who had “missed their second doses.” The real news was that 92 percent of people who’d gotten their first shot had shown up for their second.\n",
        "# The U.S. COVID vaccination follow-through has been an unmitigated, historic success. In previous multidose vaccine campaigns, it has been far lower. In 2018, for example, a study of 350,240 Medicare and 12,599 Medicaid enrollees receiving multidose vaccines for hepatitis A and hepatitis B found completion rates could be as low as 19 percent, and only went as high as 48.9 percent. And a campaign completed between 2017 and 2019 that sought to vaccinate approximately seven million people against shingles—previously cited as one of the most successful multidose campaigns ever undertaken in the U.S.—found that 70 percent and 80 percent “completed the two-dose series within six and 12 months post initial dose, respectively.” That over 92 percent showed up for their second COVID shot, and the rest still got the 80 percent protection of a single jab, is a wildly successful campaign. And yet, the Times narrated it as cause for concern—because if it had to be all or nothing, it fell short.\n",
        "\n",
        "# Journalists and social media users similarly struggled to properly frame the potential risks of the Johnson & Johnson vaccine when the Food and Drug Administration put it on pause last month. The FDA reported in early April that there had been six cases of blood clots possibly linked to some 6.8 million administered doses of Johnson & Johnson’s one-shot vaccine. That’s less than one per million, and only one was fatal. At the same time, about 562,000 of approximately 331 million Americans had died of COVID—about one out of every 588 people living in the United States. This meant that even if one in a million people were getting blood clots from the Johnson & Johnson vaccine, the risk of not taking it would be much higher than the risk of taking it.\n",
        "# A reader wrote to me on the night of the pause, despondent and asking for advice, having just secured funding and created outreach materials that included J&J information to get vaccines to hard-to-reach populations. If you do some math, if another 6.8 million people who might have gotten J&J went unvaccinated altogether, some 11,564 of them might die of COVID— to stop one one possible death. Yet because narratives often focus on single stories of individuals and the holy grail of zero risk, the idea of six people getting blood clots can register more in our collective consciousness than the broadly mitigating effects of a single-dose vaccine with minimal risk.\n",
        "\n",
        "# Finally, the CDC recently recommended that people who are vaccinated do not need to wear masks outside unless in crowds. This was prudent and sensible. SARS-CoV-2 has long been known to transmit overwhelmingly more easily indoors; a study of 381 outbreaks in China could only trace one to outdoor transmission. For that reason, outdoor mask mandates (in the hopes people will then also use them inside) have always been dubious. As Harvard epidemiologist Julia Marcus once put it, requiring masks outside is “a bit like saying we’re going to ask people to wear condoms when they’re masturbating, because we think it’s going to get them to wear a condom when they’re with another person.”\n",
        "# The risk is even more dubious as the U.S. population becomes vaccinated. Yet the idea that perhaps, maybe, there could be a single transmission outside is driving many to scold the idea of doffing masks outside. (Curiously, the CDC’s guidance advising people who are vaccinated that it was okay to gather indoors with others who are also vaccinated caused much less conflict, even though indoor transmission is far more risky.)\n",
        "\n",
        "# There’s a lot of activism still to be done to get vaccines to the most affected in the U.S. and abroad. But we can’t do that work well from a place of panic or needless pain or suffering. For instance, the high COVID mortality of line cooks has nothing to do with wearing masks outside, and everything to do with getting line cooks vaccines, stronger ventilation and better working conditions overall. Yet unnecessary panic about the former can cloud our judgment about acting on the latter.\n",
        "# As my body builds up COVID protection in the coming weeks, I am looking forward to how a far lower risk of infection or transmission will improve my mental health and make life more pleasurable. I am happy to let go of fears of harming others or myself by engaging in normative life activities. I look forward to hugging, kissing and eating with other people again, and to sharing more unmasked smiles in various settings. And I welcome this boost of happiness as fuel to keep fighting against viral stigma and for vaccine equity.\n",
        "# The trauma of the past 15 months or so will mean that many of us will have to be socialized into unmasking and being intimate with one another again. That socialization can be better aided if news media organizations reassess risk, narrate risk with more nuance and do not frame this next stage of the pandemic in all-or-nothing terms.\n",
        "\"\"\""
      ],
      "execution_count": null,
      "outputs": []
    },
    {
      "cell_type": "markdown",
      "metadata": {
        "id": "lzxl2pjZ43bZ"
      },
      "source": [
        "**Article 3**"
      ]
    },
    {
      "cell_type": "code",
      "metadata": {
        "id": "i3uNNIif48Xi"
      },
      "source": [
        "# Article_3=\"\"\"\n",
        "# The COVID pandemic devastated nursing homes. People living in long-term care facilities represent less than 1 percent of the U.S. population but account for a third of its COVID deaths: more than 174,000 people as of early March. And it wasn't just residents—nursing home workers had one of the deadliest jobs last year.\n",
        "# Problems with long-term care precede COVID. Most Americans say they want to remain at home as long as possible as they age, yet many cannot afford such care and wind up in a nursing facility. Such facilities can cost hundreds of dollars a day. Medicaid covers most charges, yet people must be nearly bankrupt to qualify. The program reimburses nursing homes only for 70 to 80 percent of those costs, so it is harder for them to provide quality care.\n",
        "# Most nursing homes are for-profit, and private equity firms are increasingly gobbling them up to make a buck at the expense of residents. Certified nursing assistants (CNAs), who furnish the bulk of care in nursing homes, earn only about $14 an hour; recruiting and retaining them is a huge challenge. And the current U.S. government system for evaluating nursing facilities—the so-called five-star rating system—is largely based on self-reported data that are easy to manipulate, and independent inspections often fail to flag serious violations in the quality of care, according to a recent New York Times investigation.\n",
        "\n",
        "# “This isn't just a bad-actor problem,” says David Grabowski, a professor of health-care policy at Harvard Medical School. “It's the system that's broken.”\n",
        "# How to fix it? President Joe Biden's proposed $2-trillion infrastructure bill offers a promising start toward helping people age at home. The bill includes $400 billion over eight years for home- and community-based care. It expands Medicaid coverage for such services, which states are not currently required to provide (and those that do often have long waiting lists). The bill, which faces steep opposition from Republicans, also aims to establish more and better-paying jobs for home health workers and to give them the ability to join unions and collectively bargain.\n",
        "# These steps are a good beginning, but they don't do anything to help nursing homes. “Nursing homes must be prioritized at the level of other medical facilities,” says Lori Porter, CEO of the National Association of Health Care Assistants, which represents CNAs. “We're taking care of the sickest people in America.”\n",
        "# The American Health Care Association (AHCA), a nonprofit that represents nursing homes and other assisted living facilities, and LeadingAge, an association of nonprofit aging service providers, recently released a proposal dubbed the Care for Our Seniors Act. The plan would require at least one registered nurse on duty 24 hours a day at every facility (in addition to CNAs and other staff) and a 30-day supply of personal protective equipment. The act includes provisions to attract and retain employees, such as providing loan forgiveness for new graduates working in long-term care, tax credits for employees, and support for child care and affordable housing. And it aims to create better oversight of facilities by focusing more on improving them than punishing them and by closing chronically poor performers. Most nursing homes are badly outdated; the new proposal calls for renovating them and ensuring all residents have private rooms. AHCA says its plan will cost $15 billion a year. To pay for it, the proposal calls for several strategies, including increasing the federal government match for Medicaid, which states have underfunded, and mandating that states pay facilities at a rate sufficient for them to break even.\n",
        "# The AHCA-LeadingAge proposal is on the right track, but one thing it's missing is increased accountability, according to Grabowski. “There's a lot of skepticism that all those dollars are going to find their way to their intended purposes,” he says. Beyond top-level reforms, Porter wants to empower nursing home residents and their families to fight for the care they or their loved ones deserve. Taking a tour of a nursing home doesn't tell you anything about the quality of care, she says. Instead you should request a meeting with the president of the resident council, an advocacy group consisting of residents and their families—and if one doesn't exist, you can form one. They can tell you whether a facility is really as good as it claims to be.\n",
        "\n",
        "# These changes will show that we, as a society, value elderly lives—including our own.\n",
        "\n",
        "\n",
        "# \"\"\""
      ],
      "execution_count": null,
      "outputs": []
    },
    {
      "cell_type": "markdown",
      "metadata": {
        "id": "ptVDdfvS5DvL"
      },
      "source": [
        "**Article 4**"
      ]
    },
    {
      "cell_type": "code",
      "metadata": {
        "id": "wPsHIV4F5GdU"
      },
      "source": [
        "# Article_4=\"\"\"\n",
        "# As Black Emergency Room physicians, we've had a front row view as COVID-19 has ravaged our community, disproportionately killing African-Americans, Latinos, and other minority groups . We cheered the arrival of a vaccine, and, along with many other front-line providers, lined up early for our appointment filled with hope that an end to this pandemic could be near.\n",
        "# Unfortunately, this elation has been short lived. Early signs from the current vaccine rollout show Black Americans nationwide are receiving COVID vaccinations at half the rates of White Americans . Even amongst those fighting the virus every day, few of our Black colleagues want to get vaccinated. As Black healthcare providers, we recognize our unique role in providing not only for the health of our patients but for the health of our communities. We provide a brief historical primer and urge specific action to prevent worsening of health disparities.\n",
        "# There is a historical legacy of exploitation and persecution at the hands of the US healthcare system which has affected generations of Black communities. During slavery, physicians used slaves for involuntary medical experimentation for both developing cures and profit. Medical exploitation was further perpetuated in the modern era as evident by the Tuskegee Syphilis Project, the biomedical capitalization of Henrietta Lacks, and forced sterilization initiatives.\n",
        "# Decades of torment have led to generalized mistrust of the healthcare system among many in the Black community. Discrimination, experiences around racism, and fear of experimentation are but a few of the many elements that contribute to this mistrust, and ultimately negatively impacts the acceptance of and willingness to seek healthcare. This notion becomes more apparent when it comes to the topic of vaccinations. A December 2020 survey conducted by the Kaiser Family Foundation showed that about a quarter of the public remains vaccine-hesitant, saying they probably or definitely would not get a COVID-19 vaccine even if it were available for free and deemed safe by scientists. More importantly, 35% of Black adults say they definitely or probably would not get vaccinated citing major reasons as fear of contracting COVID-19 from the vaccine itself or having a mistrust of vaccines in general. Among all Black Adults, about half (48%) say they are not confident that the development of a COVID-19 vaccine is taking the needs of Black people into account. \n",
        "\n",
        "# COVID vaccination presents an opportunity for a healthcare system historically plagued by injustice and discrimination to begin to make amends. We offer concrete strategies that healthcare and governmental institutions can employ now to address COVID-19 vaccine hesitancy in the African-American community.\n",
        "# First, we must acknowledge past and present injustices rooted in structurally racist policies and care delivery systems. Institutions should mandate iterative cultural competency training for all clinicians and trainees that emphasize how social determinants contribute to health inequity across communities of color. For communities historically subjected to experimentation and exclusion, transparency in describing vaccination risks and benefits and accountability in vaccine delivery are critical when engaging on the topic of COVID-19 vaccination. Second, we must develop messaging that acknowledges concerns while providing pertinent information and education. Our communities have heightened apprehension about side effects and safety rooted in historical abuses. Messaging must explicitly address these aspects in a culturally sensitive way to allay fears. Third, we must partner with trusted sources such as faith-based organizations, political advocacy groups, and grass-roots organizations to engage Black communities about the risks and benefits of the COVID19 vaccine in a personalized, culturally sensitive way. These are community leaders who acknowledge people's genuine fears and the Black experience of healthcare in America. Recognizing the potential sway that trusted Black voices have in the community, we can leverage community anchors to foster dialogue and build trust. Finally, we must redouble our efforts to overcome barriers to access particularly for those most disenfranchised. If primary care, health education, and preventive health are already less accessible for Black patients, we cannot expect that, without significant action, the COVID vaccine will magically become easy to get. Efforts need to be targeted to reach communities when and where they prefer to be vaccinated. Vaccines should be distributed in churches, barbershops, and community centers.\n",
        "# The trauma from centuries of experimentation, neglect, and disenfranchisement cannot be overcome overnight. Yet, action must be taken now to alleviate the pandemic's devastating toll on communities of color given that it is far from over. With genuine communication, relevant messaging, thoughtful partnership, and a relentless focus on removing barriers, we can build transparent and equitable mechanisms to address vaccine hesitancy in the communities most at risk.\n",
        "\n",
        "# \"\"\""
      ],
      "execution_count": null,
      "outputs": []
    },
    {
      "cell_type": "markdown",
      "metadata": {
        "id": "sVw73Hnn5MBT"
      },
      "source": [
        "**Method 1**"
      ]
    },
    {
      "cell_type": "code",
      "metadata": {
        "id": "-6b00cx98bkg"
      },
      "source": [
        "\"\"\"\n",
        "Here, we have 5 different variants and all imports should go here\n",
        "\"\"\"\n",
        "# bart-large-cnn might be an overkill since it requires pytorch so it is in another notebook\n",
        "from transformers import pipeline\n",
        "from newspaper import Article\n",
        "import torch\n",
        "import json \n",
        "from transformers import T5Tokenizer, T5ForConditionalGeneration, T5Config\n",
        "#List_of_available_models=[ 'bart-large-cnn', 't5-small', 't5-base', 't5-large', 't5-3b', 't5-11b'] # to give developers an idea of what all was tested.\n",
        "\n",
        "# for i,j in zip(List_of_available_models):\n",
        "#summarizer = pipeline(\"summarization\", model='t5-small', tokenizer=\"t5-small\", framework=\"tf\")\n",
        "#x=summarizer(\"An apple a day, keeps the doctor away\", min_length=5, max_length=20)"
      ],
      "execution_count": null,
      "outputs": []
    },
    {
      "cell_type": "code",
      "metadata": {
        "id": "vWim2RlnZtct"
      },
      "source": [
        "\n",
        "url1 = 'https://www.scientificamerican.com/article/in-shocking-move-u-s-backs-waiving-patents-on-covid-vaccines/' # provide the url you want summarised\n",
        "url = 'https://www.nejm.org/doi/10.1056/NEJMc2104974'\n",
        "article = Article(url)\n",
        "article.download()\n",
        "article.parse() # do not skip this\n",
        "article_text = article.text\n",
        "#cleaned_text = clean_text(article_text)"
      ],
      "execution_count": null,
      "outputs": []
    },
    {
      "cell_type": "code",
      "metadata": {
        "colab": {
          "base_uri": "https://localhost:8080/",
          "height": 115,
          "referenced_widgets": [
            "a505ebcb04ac4a7cbcd75f71be8820a9",
            "ec54a35b800f43c582dbc927fe086fb7",
            "a48b5d0c569a4238a7456ffc4d278c2d",
            "cc0299edce684d0483f3a53f3c9712f2",
            "f80881feae114e318f76a51a3ffda227",
            "b6720ad69e904f52b0fe3195f18b6acc",
            "54380fef57d946d29cbbcd3e9cb5d59e",
            "c7f5df8ebe08452789ff87753a19706a",
            "405c375c09c143af8f872247644df0b6",
            "ddc281de99d645d3ac8b77a464f25089",
            "2c94aaa900494a82a7398781ddf8c4bf",
            "46fed5859df74416a5d76e82d964efdc",
            "b205e86960aa4bc498b6b55592b55057",
            "7403c53d248d4f609c669eab7e3fef7e",
            "a3fc70329bbc4fe7a5f445eee7e616c7",
            "495a0d3e70de4c7f838d717e7b5d2fc4"
          ]
        },
        "id": "iBMUQWgeZswi",
        "outputId": "0664e95c-99e0-46b5-fb89-5dd7cfccd278"
      },
      "source": [
        "model = T5ForConditionalGeneration.from_pretrained('t5-large')\n",
        "tokenizer = T5Tokenizer.from_pretrained('t5-large')"
      ],
      "execution_count": null,
      "outputs": [
        {
          "output_type": "display_data",
          "data": {
            "application/vnd.jupyter.widget-view+json": {
              "model_id": "a505ebcb04ac4a7cbcd75f71be8820a9",
              "version_minor": 0,
              "version_major": 2
            },
            "text/plain": [
              "HBox(children=(FloatProgress(value=0.0, description='Downloading', max=1200.0, style=ProgressStyle(description…"
            ]
          },
          "metadata": {
            "tags": []
          }
        },
        {
          "output_type": "stream",
          "text": [
            "\n"
          ],
          "name": "stdout"
        },
        {
          "output_type": "display_data",
          "data": {
            "application/vnd.jupyter.widget-view+json": {
              "model_id": "405c375c09c143af8f872247644df0b6",
              "version_minor": 0,
              "version_major": 2
            },
            "text/plain": [
              "HBox(children=(FloatProgress(value=0.0, description='Downloading', max=2950825948.0, style=ProgressStyle(descr…"
            ]
          },
          "metadata": {
            "tags": []
          }
        },
        {
          "output_type": "stream",
          "text": [
            "\n"
          ],
          "name": "stdout"
        }
      ]
    },
    {
      "cell_type": "code",
      "metadata": {
        "colab": {
          "base_uri": "https://localhost:8080/"
        },
        "id": "XgpAlNewSbod",
        "outputId": "ce1de575-425d-4b4f-a171-087c84533eb9"
      },
      "source": [
        "\n",
        "#device = torch.device('cpu')\n",
        "preprocess_text = article_text.strip().replace(\"\\n\",\"\")\n",
        "t5_prepared_Text = \"summarize: \"+preprocess_text\n",
        "print (\"original text preprocessed: \\n\", preprocess_text)\n",
        "\n",
        "tokenized_text = tokenizer.encode(t5_prepared_Text, return_tensors=\"pt\")#.to(device)\n",
        "\n",
        "summary_ids = model.generate(tokenized_text,\n",
        "                                    num_beams=4,\n",
        "                                    no_repeat_ngram_size=2,\n",
        "                                    min_length=30,\n",
        "                                    max_length=300,\n",
        "                                    early_stopping=True)\n",
        "\n",
        "output = tokenizer.decode(summary_ids[0], skip_special_tokens=True)\n",
        "\n",
        "# print (\"\\n\\nSummarized text: \\n\",output)"
      ],
      "execution_count": null,
      "outputs": [
        {
          "output_type": "stream",
          "text": [
            "Token indices sequence length is longer than the specified maximum sequence length for this model (1157 > 512). Running this sequence through the model will result in indexing errors\n"
          ],
          "name": "stderr"
        },
        {
          "output_type": "stream",
          "text": [
            "original text preprocessed: \n",
            " To The Editor:The messenger RNA vaccine BNT162b2 (Pfizer–BioNTech) has 95% efficacy against coronavirus disease 2019 (Covid-19).1 Qatar launched a mass immunization campaign with this vaccine on December 21, 2020. As of March 31, 2021, a total of 385,853 persons had received at least one vaccine dose and 265,410 had completed the two doses. Vaccination scale-up occurred as Qatar was undergoing its second and third waves of severe acute respiratory syndrome coronavirus 2 (SARS-CoV-2) infection, which were triggered by expansion of the B.1.1.7 variant (starting in mid-January 2021) and the B.1.351 variant (starting in mid-February 2021). The B.1.1.7 wave peaked during the first week of March, and the rapid expansion of B.1.351 started in mid-March and continues to the present day. Viral genome sequencing conducted from February 23 through March 18 indicated that 50.0% of cases of Covid-19 in Qatar were caused by B.1.351 and 44.5% were caused by B.1.1.7. Nearly all cases in which virus was sequenced after March 7 were caused by either B.1.351 or B.1.1.7.Data on vaccinations, polymerase-chain-reaction testing, and clinical characteristics were extracted from the national, federated Covid-19 databases that have captured all SARS-CoV-2–related data since the start of the epidemic (Section S1 of the Supplementary Appendix, available with the full text of this letter at NEJM.org). Vaccine effectiveness was estimated with a test-negative case–control study design, a preferred design for assessing vaccine effectiveness against influenza (see the Supplementary Appendix).2 A key strength of this design is the ability to control for bias that may result from differences in health care–seeking behavior between vaccinated and unvaccinated persons.2Table 1. Table 1. Vaccine Effectiveness against Infection and against Disease in Qatar.The estimated effectiveness of the vaccine against any documented infection with the B.1.1.7 variant was 89.5% (95% confidence interval [CI], 85.9 to 92.3) at 14 or more days after the second dose (Table 1 and Table S2). The effectiveness against any documented infection with the B.1.351 variant was 75.0% (95% CI, 70.5 to 78.9). Vaccine effectiveness against severe, critical, or fatal disease due to infection with any SARS-CoV-2 (with the B.1.1.7 and B.1.351 variants being predominant within Qatar) was very high, at 97.4% (95% CI, 92.2 to 99.5). Sensitivity analyses confirmed these results (Table S3).Vaccine effectiveness was also assessed with the use of a cohort study design by comparing the incidence of infection among vaccinated persons with the incidence in the national cohort of persons who were antibody-negative (Section S2). Effectiveness was estimated to be 87.0% (95% CI, 81.8 to 90.7) against the B.1.1.7 variant and 72.1% (95% CI, 66.4 to 76.8) against the B.1.351 variant, findings that confirm the results reported above.The BNT162b2 vaccine was effective against infection and disease in the population of Qatar, despite the B.1.1.7 and B.1.351 variants being predominant within the country; however, vaccine effectiveness against the B.1.351 variant was approximately 20 percentage points lower than the effectiveness (>90%) reported in the clinical trial1 and in real-world conditions in Israel4 and the United States.5 In Qatar, as of March 31, breakthrough infections have been recorded in 6689 persons who had received one dose of the vaccine and in 1616 persons who had received two doses. Seven deaths from Covid-19 have been also recorded among vaccinated persons: five after the first dose and two after the second dose. Nevertheless, the reduced protection against infection with the B.1.351 variant did not seem to translate into poor protection against the most severe forms of infection (i.e., those resulting in hospitalization or death), which was robust, at greater than 90%.Laith J. Abu-Raddad, Ph.D.Hiam Chemaitelly, M.Sc.Weill Cornell Medicine–Qatar, Doha, Qatar[email protected]Adeel A. Butt, M.D.Hamad Medical Corporation, Doha, Qatarfor the National Study Group for COVID-19 VaccinationSupported by the Biomedical Research Program and the Biostatistics, Epidemiology, and Biomathematics Research Core at Weill Cornell Medicine–Qatar; the Ministry of Public Health; and Hamad Medical Corporation . The Qatar Genome Program supported the viral genome sequencing. Disclosure forms provided by the authors are available with the full text of this letter at NEJM.org.This letter was published on May 5, 2021, at NEJM.org.Members of the National Study Group for COVID-19 Vaccination are listed in the Supplementary Appendix, available with the full text of this letter at NEJM.org.\n"
          ],
          "name": "stdout"
        }
      ]
    },
    {
      "cell_type": "code",
      "metadata": {
        "colab": {
          "base_uri": "https://localhost:8080/"
        },
        "id": "vNnNqFI1XpXq",
        "outputId": "ecb10c61-8188-4527-f9f5-50f40f0c9dcc"
      },
      "source": [
        "print (\"\\n\\nSummarized text: \\n\",output)"
      ],
      "execution_count": null,
      "outputs": [
        {
          "output_type": "stream",
          "text": [
            "\n",
            "\n",
            "Summarized text: \n",
            " messenger RNA vaccine has 95% efficacy against coronavirus disease 2019 (Covid-19) vaccine was effective against infection and disease in the population of Qatar. vaccine effectiveness against the B.1.351 variant was approximately 20 percentage points lower than the effectiveness (>90%) reported in clinical trial1 and in real-world conditions in Israel4 and the u.s.\n"
          ],
          "name": "stdout"
        }
      ]
    },
    {
      "cell_type": "code",
      "metadata": {
        "colab": {
          "base_uri": "https://localhost:8080/",
          "height": 115,
          "referenced_widgets": [
            "2b1c1d7e34b14686812cdccd78f9e6c6",
            "bd825a193c794c86a4e04bcb76734037",
            "45a37976689043a69549d7dff68c68b0",
            "0fa56bc54349478f81f30012a565965e",
            "392d23e58a93404c842d524b4c3116cf",
            "527604c36fef478c9c3ccf4a33facf4b",
            "f108bd4e51f2493f8162318f99874503",
            "3aa887dd4183442d84b19b241db6b0e8",
            "ae71e47be2194dbe86b8fbcee2bd0693",
            "e3163c8cb44b4c2ca5c8261c89c67900",
            "5e7e9f2f43fc4e358ebc8d81cd0e5477",
            "77b1eb8adc82455c8fa6312440b92eb8",
            "0c3bbd88ded549eebb4f620f617cbdf5",
            "3a67e93df8c64e8ab2c6c8e4ba7773bb",
            "e3dd3cde98f346eeb2312c4831d19cac",
            "be0dc5ef2bb0464aa9c4a62d613664d0"
          ]
        },
        "id": "yz_2ktEkbzAM",
        "outputId": "85ed4dbf-e74a-4c66-be59-906f4e14fe23"
      },
      "source": [
        "#another summary model\n",
        "summarizer = pipeline(\"summarization\", model='t5-large', tokenizer=\"t5-large\", framework=\"tf\") # do not re-run for every url, evaluates the summaries"
      ],
      "execution_count": null,
      "outputs": [
        {
          "output_type": "display_data",
          "data": {
            "application/vnd.jupyter.widget-view+json": {
              "model_id": "2b1c1d7e34b14686812cdccd78f9e6c6",
              "version_minor": 0,
              "version_major": 2
            },
            "text/plain": [
              "HBox(children=(FloatProgress(value=0.0, description='Downloading', max=230.0, style=ProgressStyle(description_…"
            ]
          },
          "metadata": {
            "tags": []
          }
        },
        {
          "output_type": "stream",
          "text": [
            "\n"
          ],
          "name": "stdout"
        },
        {
          "output_type": "display_data",
          "data": {
            "application/vnd.jupyter.widget-view+json": {
              "model_id": "ae71e47be2194dbe86b8fbcee2bd0693",
              "version_minor": 0,
              "version_major": 2
            },
            "text/plain": [
              "HBox(children=(FloatProgress(value=0.0, description='Downloading', max=2951710928.0, style=ProgressStyle(descr…"
            ]
          },
          "metadata": {
            "tags": []
          }
        },
        {
          "output_type": "stream",
          "text": [
            "\n"
          ],
          "name": "stdout"
        }
      ]
    },
    {
      "cell_type": "code",
      "metadata": {
        "id": "Mpg-2CMd9Mju",
        "colab": {
          "base_uri": "https://localhost:8080/"
        },
        "outputId": "1055affd-9f09-413f-9968-efdaf51ea4f7"
      },
      "source": [
        "####Varaint 1#####\n",
        "length_penalty = 2.0 \n",
        "print(summarizer(article_text, min_length=30, max_length=250,length_penalty=2.0 ))\n",
        "##########"
      ],
      "execution_count": null,
      "outputs": [
        {
          "output_type": "stream",
          "text": [
            "[{'summary_text': 'the US government has announced that it supports waiving patent protections for COVID-19 vaccines . the move is aimed at boosting supplies so that people around the world can get the shots . Until now, the united states, the european union, the uk and japan have blocked efforts brought by india and south africa to make it legal to manufacture generic versions .'}]\n"
          ],
          "name": "stdout"
        }
      ]
    },
    {
      "cell_type": "code",
      "metadata": {
        "colab": {
          "base_uri": "https://localhost:8080/",
          "height": 350,
          "referenced_widgets": [
            "e00e7eb8bfba4699a87a41bfaaef833d",
            "7c77c41d910e4b6e81b335df496b7e3b",
            "96af1671c86240e9972aa8e26b9100ba",
            "6de200009b83418981fc6113733a1bc2",
            "a90287e08323408cb93c202ef6f90dd3",
            "9b03935e2d3b485f98d39c57c6b21785",
            "08af9093f52749c0a1b45e643672e560",
            "50175c905a474d56bbd35ec7086b8783",
            "54dd0895368c49eb827201668aaa29c5",
            "076685c6f3e7403888965bf53ae99eaa",
            "cbe0d5834bb24d04a0f7f98b0cde3b56",
            "80af40b0134a428b8dae29764570ed4f",
            "5a06d09feb524384ad32dcb501217abb",
            "7cca43f43549469b851eedc323f3afff",
            "f6fb0ca8655a469ebbb5a67dec0f64ee",
            "a512aeeaf60444eb917212b8ed5453ae",
            "6b4cdf9d1f4447d78162911893725439",
            "5010d5a18a47423aab74ad9fce3f915e",
            "4149ec659ba4431095201b82b2cad9da",
            "87ce4f5d43c54cd685b67b2c06c3c684",
            "f6b8be9c2b084d6097c20d86522cc406",
            "f3edf806bd3a45868abad1bc787de257",
            "61623a23e2144693b7350ce5f355b8f4",
            "41da4d2a886a4a2eafec8689c5ae0976",
            "72dc1ef2326a485597d95411c3e9c156",
            "f1ac5cd244cf407ea40f36628d6f2f66",
            "a3944816c3d741e6bc5ab0e91265c566",
            "3eb33121af7f443c9b52ba50d1b1d972",
            "8334337bf24144f3b3916c83ef287ad2",
            "c8f78cd183554e9faea51d2d17250e31",
            "c0f2d71bc05e4b8c92a4bb5dd4d5d018",
            "57717892d9da431dbb703107e4668a51",
            "13eb42c49d2e4c6fa41e08a81ab4a9cc",
            "7e78d423be8e46de8954cc0d2699686e",
            "79f96073e4864e8e93d94e85e77bcab8",
            "f216580379ab4cb1afb00a4db5bb9b73",
            "6e857faee9944047b85176ca8f78bb93",
            "0dee705117b841fa9c6e24ef21520b61",
            "ab195d1bc35b41538c045934e5e862c0",
            "342a43b8667f4587b60f6e2909126633"
          ]
        },
        "id": "sCA8LeMafotQ",
        "outputId": "1e58cf36-d9e8-4d8d-b4a9-af0c89705159"
      },
      "source": [
        "from transformers import BartTokenizer, BartForConditionalGeneration\n",
        "import torch\n",
        "\n",
        "long_text = article_text\n",
        "\n",
        "model = BartForConditionalGeneration.from_pretrained('facebook/bart-large-cnn')\n",
        "tokenizer = BartTokenizer.from_pretrained('facebook/bart-large-cnn')\n",
        "\n",
        "# tokenize without truncation\n",
        "inputs_no_trunc = tokenizer(cleaned_text, max_length=None, return_tensors='pt', truncation=False)\n",
        "\n",
        "# get batches of tokens corresponding to the exact model_max_length\n",
        "chunk_start = 0\n",
        "chunk_end = tokenizer.model_max_length  # == 1024 for Bart\n",
        "inputs_batch_lst = []\n",
        "while chunk_start <= len(inputs_no_trunc['input_ids'][0]):\n",
        "    inputs_batch = inputs_no_trunc['input_ids'][0][chunk_start:chunk_end]  # get batch of n tokens\n",
        "    inputs_batch = torch.unsqueeze(inputs_batch, 0)\n",
        "    inputs_batch_lst.append(inputs_batch)\n",
        "    chunk_start += tokenizer.model_max_length  # == 1024 for Bart\n",
        "    chunk_end += tokenizer.model_max_length  # == 1024 for Bart\n",
        "\n",
        "# generate a summary on each batch\n",
        "summary_ids_lst = [model.generate(inputs, num_beams=4, max_length=250, early_stopping=True) for inputs in inputs_batch_lst]\n",
        "\n",
        "# decode the output and join into one string with one paragraph per summary batch\n",
        "summary_batch_lst = []\n",
        "for summary_id in summary_ids_lst:\n",
        "    summary_batch = [tokenizer.decode(g, skip_special_tokens=True, clean_up_tokenization_spaces=False) for g in summary_id]\n",
        "    summary_batch_lst.append(summary_batch[0])\n",
        "summary_all = '\\n'.join(summary_batch_lst)\n",
        "\n",
        "print(summary_all)\n"
      ],
      "execution_count": null,
      "outputs": [
        {
          "output_type": "display_data",
          "data": {
            "application/vnd.jupyter.widget-view+json": {
              "model_id": "e00e7eb8bfba4699a87a41bfaaef833d",
              "version_minor": 0,
              "version_major": 2
            },
            "text/plain": [
              "HBox(children=(FloatProgress(value=0.0, description='Downloading', max=1585.0, style=ProgressStyle(description…"
            ]
          },
          "metadata": {
            "tags": []
          }
        },
        {
          "output_type": "stream",
          "text": [
            "\n"
          ],
          "name": "stdout"
        },
        {
          "output_type": "display_data",
          "data": {
            "application/vnd.jupyter.widget-view+json": {
              "model_id": "54dd0895368c49eb827201668aaa29c5",
              "version_minor": 0,
              "version_major": 2
            },
            "text/plain": [
              "HBox(children=(FloatProgress(value=0.0, description='Downloading', max=1625270765.0, style=ProgressStyle(descr…"
            ]
          },
          "metadata": {
            "tags": []
          }
        },
        {
          "output_type": "stream",
          "text": [
            "\n"
          ],
          "name": "stdout"
        },
        {
          "output_type": "display_data",
          "data": {
            "application/vnd.jupyter.widget-view+json": {
              "model_id": "6b4cdf9d1f4447d78162911893725439",
              "version_minor": 0,
              "version_major": 2
            },
            "text/plain": [
              "HBox(children=(FloatProgress(value=0.0, description='Downloading', max=898823.0, style=ProgressStyle(descripti…"
            ]
          },
          "metadata": {
            "tags": []
          }
        },
        {
          "output_type": "stream",
          "text": [
            "\n"
          ],
          "name": "stdout"
        },
        {
          "output_type": "display_data",
          "data": {
            "application/vnd.jupyter.widget-view+json": {
              "model_id": "72dc1ef2326a485597d95411c3e9c156",
              "version_minor": 0,
              "version_major": 2
            },
            "text/plain": [
              "HBox(children=(FloatProgress(value=0.0, description='Downloading', max=456318.0, style=ProgressStyle(descripti…"
            ]
          },
          "metadata": {
            "tags": []
          }
        },
        {
          "output_type": "stream",
          "text": [
            "\n"
          ],
          "name": "stdout"
        },
        {
          "output_type": "display_data",
          "data": {
            "application/vnd.jupyter.widget-view+json": {
              "model_id": "13eb42c49d2e4c6fa41e08a81ab4a9cc",
              "version_minor": 0,
              "version_major": 2
            },
            "text/plain": [
              "HBox(children=(FloatProgress(value=0.0, description='Downloading', max=1355863.0, style=ProgressStyle(descript…"
            ]
          },
          "metadata": {
            "tags": []
          }
        },
        {
          "output_type": "stream",
          "text": [
            "\n"
          ],
          "name": "stdout"
        },
        {
          "output_type": "stream",
          "text": [
            "/usr/local/lib/python3.7/dist-packages/torch/_tensor.py:575: UserWarning: floor_divide is deprecated, and will be removed in a future version of pytorch. It currently rounds toward 0 (like the 'trunc' function NOT 'floor'). This results in incorrect rounding for negative values.\n",
            "To keep the current behavior, use torch.div(a, b, rounding_mode='trunc'), or for actual floor division, use torch.div(a, b, rounding_mode='floor'). (Triggered internally at  /pytorch/aten/src/ATen/native/BinaryOps.cpp:467.)\n",
            "  return torch.floor_divide(self, other)\n"
          ],
          "name": "stderr"
        },
        {
          "output_type": "stream",
          "text": [
            "The US government has announced that it supports waiving patent protections for COVID-19 vaccines. The move is aimed at boosting supplies so that people around the world can get the shots. The World Trade Organization will not negotiate the details of which patents to adjust until all its member countries agree on some sort of waiver.\n"
          ],
          "name": "stdout"
        }
      ]
    },
    {
      "cell_type": "code",
      "metadata": {
        "id": "F2ewyypY-qhq"
      },
      "source": [
        "# print(summarizer(Article_1, min_length=30, max_length=250))"
      ],
      "execution_count": null,
      "outputs": []
    },
    {
      "cell_type": "code",
      "metadata": {
        "id": "xxh712ei-4SP"
      },
      "source": [
        "# print(summarizer(Article_2, min_length=30, max_length=250))"
      ],
      "execution_count": null,
      "outputs": []
    },
    {
      "cell_type": "code",
      "metadata": {
        "id": "vuUR0y8u_PmE"
      },
      "source": [
        "# print(summarizer(Article_3, min_length=30, max_length=250))"
      ],
      "execution_count": null,
      "outputs": []
    },
    {
      "cell_type": "code",
      "metadata": {
        "id": "HhQjqyX-_az6"
      },
      "source": [
        "# print(summarizer(Article_4, min_length=30, max_length=250))"
      ],
      "execution_count": null,
      "outputs": []
    },
    {
      "cell_type": "code",
      "metadata": {
        "id": "lru9Z7Ax_rxS"
      },
      "source": [
        "#### Variant 2#####\n",
        "\n",
        "summarizer = pipeline(\"summarization\", model='t5-base', tokenizer=\"t5-base\", framework=\"tf\")"
      ],
      "execution_count": null,
      "outputs": []
    },
    {
      "cell_type": "code",
      "metadata": {
        "id": "AB_aL3qbACNw"
      },
      "source": [
        "print(summarizer(Article_1, min_length=30, max_length=250))"
      ],
      "execution_count": null,
      "outputs": []
    },
    {
      "cell_type": "code",
      "metadata": {
        "id": "BzuzgkAzAHWd"
      },
      "source": [
        "print(summarizer(Article_2, min_length=30, max_length=250))"
      ],
      "execution_count": null,
      "outputs": []
    },
    {
      "cell_type": "code",
      "metadata": {
        "id": "tUT8TLRzAIyS"
      },
      "source": [
        "print(summarizer(Article_3, min_length=30, max_length=250))"
      ],
      "execution_count": null,
      "outputs": []
    },
    {
      "cell_type": "code",
      "metadata": {
        "id": "FigHF9HAAKjm"
      },
      "source": [
        "print(summarizer(Article_4, min_length=30, max_length=250))"
      ],
      "execution_count": null,
      "outputs": []
    },
    {
      "cell_type": "code",
      "metadata": {
        "id": "XF5xkqi4CG9l"
      },
      "source": [
        "#### Variant 3 ######\n",
        "summarizer = pipeline(\"summarization\", model='t5-large', tokenizer=\"t5-large\", framework=\"tf\")"
      ],
      "execution_count": null,
      "outputs": []
    },
    {
      "cell_type": "code",
      "metadata": {
        "id": "mYuBdMtKDVo7"
      },
      "source": [
        "print(summarizer(Article_1, min_length=30, max_length=250))"
      ],
      "execution_count": null,
      "outputs": []
    },
    {
      "cell_type": "code",
      "metadata": {
        "id": "o2yIiWHADa4f"
      },
      "source": [
        "print(summarizer(Article_2, min_length=30, max_length=250))"
      ],
      "execution_count": null,
      "outputs": []
    },
    {
      "cell_type": "code",
      "metadata": {
        "id": "JiZtCD6UDcNS"
      },
      "source": [
        "print(summarizer(Article_3, min_length=30, max_length=250))"
      ],
      "execution_count": null,
      "outputs": []
    },
    {
      "cell_type": "code",
      "metadata": {
        "id": "cx7axhyrDdcD"
      },
      "source": [
        "print(summarizer(Article_4, min_length=30, max_length=250))"
      ],
      "execution_count": null,
      "outputs": []
    },
    {
      "cell_type": "code",
      "metadata": {
        "id": "Q7ixoGHyHfVL"
      },
      "source": [
        "#### Variant 3 ###### errors due to memory issues #####\n",
        "\n",
        "summarizer = pipeline(\"summarization\", model='t5-3b', tokenizer=\"t5-3b\", framework=\"tf\")"
      ],
      "execution_count": null,
      "outputs": []
    },
    {
      "cell_type": "code",
      "metadata": {
        "id": "VwNMhMnLHvTr"
      },
      "source": [
        "print(summarizer(Article_1, min_length=30, max_length=250)) # might not work due to memory issues if the previous models have been loaded ###"
      ],
      "execution_count": null,
      "outputs": []
    },
    {
      "cell_type": "code",
      "metadata": {
        "id": "qcZO8oYoI7pP"
      },
      "source": [
        "print(summarizer(Article_2, min_length=30, max_length=250)) # might not work due to memory issues if the previous models have been loaded ###"
      ],
      "execution_count": null,
      "outputs": []
    },
    {
      "cell_type": "code",
      "metadata": {
        "id": "sA12lfhxI-BZ"
      },
      "source": [
        "print(summarizer(Article_3, min_length=30, max_length=250)) # might not work due to memory issues if the previous models have been loaded ###"
      ],
      "execution_count": null,
      "outputs": []
    },
    {
      "cell_type": "code",
      "metadata": {
        "id": "68YWJl5DI-vI"
      },
      "source": [
        "print(summarizer(Article_4, min_length=30, max_length=250)) # might not work due to memory issues if the previous models have been loaded ###"
      ],
      "execution_count": null,
      "outputs": []
    },
    {
      "cell_type": "code",
      "metadata": {
        "id": "XwPF0ghhrlB_"
      },
      "source": [
        "#default version t5-base, incase model not specified\n",
        "summarizer = pipeline(\"summarization\")"
      ],
      "execution_count": null,
      "outputs": []
    },
    {
      "cell_type": "markdown",
      "metadata": {
        "id": "4XJaNNdmrlCA"
      },
      "source": [
        "Because the summarization pipeline depends on the `PreTrainedModel.generate()` method, we can override the default\n",
        "arguments of `PreTrainedModel.generate()` directly in the pipeline for `max_length` and `min_length` as shown\n",
        "below. This outputs the following summary:"
      ]
    },
    {
      "cell_type": "code",
      "metadata": {
        "id": "vaNO7OiZrlCB"
      },
      "source": [
        "print(summarizer(Article_1, max_length=250, min_length=30, do_sample=False))\n",
        "#current token size = 512 \n",
        "#length penalty = 2.0 \n",
        "# this is an extractive summary"
      ],
      "execution_count": null,
      "outputs": []
    },
    {
      "cell_type": "code",
      "metadata": {
        "id": "CaNe-fWfJclo"
      },
      "source": [
        "print(summarizer(Article_3, max_length=250, min_length=30, do_sample=False))"
      ],
      "execution_count": null,
      "outputs": []
    },
    {
      "cell_type": "code",
      "metadata": {
        "id": "LfeJXWPbJ73C"
      },
      "source": [
        "print(summarizer(Article_4, max_length=250, min_length=30, do_sample=False))"
      ],
      "execution_count": null,
      "outputs": []
    },
    {
      "cell_type": "code",
      "metadata": {
        "id": "7AP3CUqDKEDL"
      },
      "source": [
        "# print(summarizer(Article_2, max_length=50, min_length=20, do_sample=False))"
      ],
      "execution_count": null,
      "outputs": []
    },
    {
      "cell_type": "markdown",
      "metadata": {
        "id": "GrplSeZz55US"
      },
      "source": [
        "**Method 2**"
      ]
    },
    {
      "cell_type": "markdown",
      "metadata": {
        "id": "y7rdlBOKrlCC"
      },
      "source": [
        "Here is an example of doing summarization using a model and a tokenizer. The process is the following:\n",
        "\n",
        "1. Instantiate a tokenizer and a model from the checkpoint name. Summarization is usually done using an encoder-decoder\n",
        "   model, such as `Bart` or `T5`.\n",
        "2. Define the article that should be summarized.\n",
        "3. Add the T5 specific prefix \"summarize: \".\n",
        "4. Use the `PreTrainedModel.generate()` method to generate the summary.\n",
        "\n",
        "In this example we use Google's T5 model. Even though it was pre-trained only on a multi-task mixed dataset (including\n",
        "CNN / Daily Mail), it yields very good results.\n",
        "\n",
        "Note: Though the Hugging face community has positive reviews of the tokeniser (which is fine tuned version) but it isn't working very well for us.\n"
      ]
    },
    {
      "cell_type": "code",
      "metadata": {
        "id": "jiXlJfQXrlCD"
      },
      "source": [
        "from transformers import AutoModelWithLMHead, AutoTokenizer\n",
        "model = AutoModelWithLMHead.from_pretrained(\"t5-base\")\n",
        "tokenizer = AutoTokenizer.from_pretrained(\"t5-base\")"
      ],
      "execution_count": null,
      "outputs": []
    },
    {
      "cell_type": "code",
      "metadata": {
        "id": "nEKitFG_KmVX"
      },
      "source": [
        "# T5 uses a max_length of 512 so we cut the article to 512 tokens.\n",
        "inputs_1 = tokenizer.encode(\"summarize: \" + Article_1, return_tensors=\"pt\", max_length=512)\n",
        "outputs_1 = model.generate(inputs_1, max_length=512, min_length=40, length_penalty=2.0, num_beams=4, early_stopping=True)\n",
        "inputs_2 = tokenizer.encode(\"summarize: \" + Article_2, return_tensors=\"pt\", max_length=512)\n",
        "outputs_2 = model.generate(inputs_2, max_length=512, min_length=40, length_penalty=2.0, num_beams=4, early_stopping=True)\n",
        "inputs_3 = tokenizer.encode(\"summarize: \" + Article_3, return_tensors=\"pt\", max_length=512)\n",
        "outputs_3 = model.generate(inputs_3, max_length=512, min_length=40, length_penalty=2.0, num_beams=4, early_stopping=True)\n",
        "inputs_4 = tokenizer.encode(\"summarize: \" + Article_4, return_tensors=\"pt\", max_length=512)\n",
        "outputs_4 = model.generate(inputs_4, max_length=512, min_length=40, length_penalty=2.0, num_beams=4, early_stopping=True)\n"
      ],
      "execution_count": null,
      "outputs": []
    },
    {
      "cell_type": "code",
      "metadata": {
        "id": "xJDmdbEErlCE"
      },
      "source": [
        "print(tokenizer.decode(outputs_1[0]))"
      ],
      "execution_count": null,
      "outputs": []
    },
    {
      "cell_type": "code",
      "metadata": {
        "id": "dwG-iAgmLrdW"
      },
      "source": [
        "print(tokenizer.decode(outputs_2[0]))"
      ],
      "execution_count": null,
      "outputs": []
    },
    {
      "cell_type": "code",
      "metadata": {
        "id": "rb3wDK5ULr1J"
      },
      "source": [
        "print(tokenizer.decode(outputs_3[0]))"
      ],
      "execution_count": null,
      "outputs": []
    },
    {
      "cell_type": "code",
      "metadata": {
        "id": "RxHhSw8mLsFx"
      },
      "source": [
        "print(tokenizer.decode(outputs_4[0]))"
      ],
      "execution_count": null,
      "outputs": []
    },
    {
      "cell_type": "code",
      "metadata": {
        "id": "ekTALDujXifR"
      },
      "source": [
        "article_text"
      ],
      "execution_count": null,
      "outputs": []
    }
  ]
}